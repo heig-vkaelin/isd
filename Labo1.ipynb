{
 "cells": [
  {
   "cell_type": "markdown",
   "id": "precious-spell",
   "metadata": {},
   "source": [
    "## Labo 1"
   ]
  },
  {
   "cell_type": "markdown",
   "id": "allied-consultancy",
   "metadata": {},
   "source": [
    "a) Programmez une fonction qui reçoit en entrée un entier n et qui calcule la\n",
    "somme : 1 + 2^2 + 3^2 + …. n^2 utilisant une boucle for"
   ]
  },
  {
   "cell_type": "code",
   "execution_count": 17,
   "id": "generous-cleveland",
   "metadata": {},
   "outputs": [
    {
     "name": "stdout",
     "output_type": "stream",
     "text": [
      "14\n"
     ]
    }
   ],
   "source": [
    "def somme_v1(n):\n",
    "    somme = 0\n",
    "    for x in range(n + 1):\n",
    "        somme += x ** 2\n",
    "    return somme\n",
    "print(somme_v1(3))"
   ]
  },
  {
   "cell_type": "markdown",
   "id": "variable-expense",
   "metadata": {},
   "source": [
    "b) Programmez une fonction qui reçoit en entrée un entier n et qui calcule la\n",
    "somme : 1 + 2^2 + 3^2 + …. n^2 en utilisant la méthode sum(liste)"
   ]
  },
  {
   "cell_type": "code",
   "execution_count": 24,
   "id": "initial-wagon",
   "metadata": {},
   "outputs": [
    {
     "name": "stdout",
     "output_type": "stream",
     "text": [
      "14\n"
     ]
    }
   ],
   "source": [
    "def somme_v2(n):\n",
    "    squares = [x ** 2 for x in range(n + 1)] \n",
    "    return sum(squares)\n",
    "print(somme_v2(3))"
   ]
  },
  {
   "cell_type": "markdown",
   "id": "heard-opinion",
   "metadata": {},
   "source": [
    "c) Programmez une fonction qui reçoit en entrée une liste et rend en sortie une\n",
    "nouvelle liste qui contient la première séquence de valeurs et ensuite la même\n",
    "séquence mais à l’inverse, formant un palindrome.\n",
    "\n",
    "Exemple : input= [1,2,3,4,5] -> out = [1,2,3,4,5,5,4,3,2,1]\n",
    "\n",
    "Aide : si nécessaire, utilisez la méthode liste.copy() pour faire une copie de la liste en entrée"
   ]
  },
  {
   "cell_type": "code",
   "execution_count": 3,
   "id": "undefined-porter",
   "metadata": {},
   "outputs": [
    {
     "name": "stdout",
     "output_type": "stream",
     "text": [
      "[1, 2, 3, 4, 5, 5, 4, 3, 2, 1]\n"
     ]
    }
   ],
   "source": [
    "def palindrome(liste):\n",
    "    liste.extend(reversed(liste))\n",
    "    return liste\n",
    "    \n",
    "print(palindrome([1, 2, 3, 4, 5]))"
   ]
  },
  {
   "cell_type": "markdown",
   "id": "written-contents",
   "metadata": {},
   "source": [
    "d) Programmez un script qui génère une liste contenant un million de valeurs\n",
    "entiers aléatoires entre 1 et 10 (y compris) et qui calcule le pourcentage de\n",
    "valeurs impaires dans cette liste.\n",
    "\n",
    "Aide : vous pouvez utiliser le module random (import random) et la méthode random.randrange pour la génération de nombres aléatoires."
   ]
  },
  {
   "cell_type": "code",
   "execution_count": 9,
   "id": "treated-lancaster",
   "metadata": {},
   "outputs": [
    {
     "name": "stdout",
     "output_type": "stream",
     "text": [
      "500066\n",
      "50.0066\n"
     ]
    }
   ],
   "source": [
    "import random\n",
    "\n",
    "nb_val = 1000000\n",
    "values = [random.randrange(1, 11) for i in range(nb_val)]\n",
    "\n",
    "even_val = sum(1-n % 2 for n in values)\n",
    "percent = 100 * even_val / nb_val\n",
    "print(even_val)\n",
    "print(percent)"
   ]
  },
  {
   "cell_type": "markdown",
   "id": "conservative-gabriel",
   "metadata": {},
   "source": [
    "e) Programmez un script qui utilise les compréhensions des listes Python pour imprimer les carrés des entiers impairs plus petits ou égales à 10 et les carrés des entiers pairs plus grands que 10, mais plus petits que 21.\n",
    "\n",
    "C’est à dire : [1, 9, 25, 49, 81, 144, 196, 256, 324, 400]\n",
    "\n",
    "Aide : new_list = [function(item) for item in list if condition(item)]\n"
   ]
  },
  {
   "cell_type": "code",
   "execution_count": 25,
   "id": "oriented-connecticut",
   "metadata": {},
   "outputs": [
    {
     "name": "stdout",
     "output_type": "stream",
     "text": [
      "[1, 9, 25, 49, 81, 144, 196, 256, 324, 400]\n"
     ]
    }
   ],
   "source": [
    "squares = [x ** 2 for x in range(21) if (x <= 10 and x % 2 != 0) or (x > 10 and x < 21 and x % 2 == 0)]\n",
    "\n",
    "print(squares)"
   ]
  }
 ],
 "metadata": {
  "kernelspec": {
   "display_name": "isd",
   "language": "python",
   "name": "isd"
  },
  "language_info": {
   "codemirror_mode": {
    "name": "ipython",
    "version": 3
   },
   "file_extension": ".py",
   "mimetype": "text/x-python",
   "name": "python",
   "nbconvert_exporter": "python",
   "pygments_lexer": "ipython3",
   "version": "3.9.1"
  }
 },
 "nbformat": 4,
 "nbformat_minor": 5
}
