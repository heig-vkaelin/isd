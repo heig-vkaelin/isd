{
 "cells": [
  {
   "cell_type": "markdown",
   "id": "diagnostic-appearance",
   "metadata": {},
   "source": [
    "Labo 5 ISD - Alexandre Jaquier et Valentin Kaelin"
   ]
  },
  {
   "cell_type": "markdown",
   "id": "classified-indication",
   "metadata": {},
   "source": [
    "# 1. Régression linéaire simple"
   ]
  },
  {
   "cell_type": "markdown",
   "id": "reported-louisville",
   "metadata": {},
   "source": [
    "**1)** Installez la bibliothèque sklearn"
   ]
  },
  {
   "cell_type": "code",
   "execution_count": 1,
   "id": "disabled-fifteen",
   "metadata": {},
   "outputs": [],
   "source": [
    "import numpy as np\n",
    "import pandas as pd\n",
    "from matplotlib import pyplot as plt\n",
    "from sklearn.datasets import load_boston\n",
    "from random import randrange, seed"
   ]
  },
  {
   "cell_type": "markdown",
   "id": "computational-carol",
   "metadata": {},
   "source": [
    "**2)** Créez un notebook pour lire la base de données «Boston housing dataset » et générez un dataframe."
   ]
  },
  {
   "cell_type": "code",
   "execution_count": 2,
   "id": "entitled-cradle",
   "metadata": {
    "scrolled": true
   },
   "outputs": [
    {
     "data": {
      "text/html": [
       "<div>\n",
       "<style scoped>\n",
       "    .dataframe tbody tr th:only-of-type {\n",
       "        vertical-align: middle;\n",
       "    }\n",
       "\n",
       "    .dataframe tbody tr th {\n",
       "        vertical-align: top;\n",
       "    }\n",
       "\n",
       "    .dataframe thead th {\n",
       "        text-align: right;\n",
       "    }\n",
       "</style>\n",
       "<table border=\"1\" class=\"dataframe\">\n",
       "  <thead>\n",
       "    <tr style=\"text-align: right;\">\n",
       "      <th></th>\n",
       "      <th>CRIM</th>\n",
       "      <th>ZN</th>\n",
       "      <th>INDUS</th>\n",
       "      <th>CHAS</th>\n",
       "      <th>NOX</th>\n",
       "      <th>RM</th>\n",
       "      <th>AGE</th>\n",
       "      <th>DIS</th>\n",
       "      <th>RAD</th>\n",
       "      <th>TAX</th>\n",
       "      <th>PTRATIO</th>\n",
       "      <th>B</th>\n",
       "      <th>LSTAT</th>\n",
       "      <th>MEDV</th>\n",
       "    </tr>\n",
       "  </thead>\n",
       "  <tbody>\n",
       "    <tr>\n",
       "      <th>count</th>\n",
       "      <td>506.000000</td>\n",
       "      <td>506.000000</td>\n",
       "      <td>506.000000</td>\n",
       "      <td>506.000000</td>\n",
       "      <td>506.000000</td>\n",
       "      <td>506.000000</td>\n",
       "      <td>506.000000</td>\n",
       "      <td>506.000000</td>\n",
       "      <td>506.000000</td>\n",
       "      <td>506.000000</td>\n",
       "      <td>506.000000</td>\n",
       "      <td>506.000000</td>\n",
       "      <td>506.000000</td>\n",
       "      <td>506.000000</td>\n",
       "    </tr>\n",
       "    <tr>\n",
       "      <th>mean</th>\n",
       "      <td>3.613524</td>\n",
       "      <td>11.363636</td>\n",
       "      <td>11.136779</td>\n",
       "      <td>0.069170</td>\n",
       "      <td>0.554695</td>\n",
       "      <td>6.284634</td>\n",
       "      <td>68.574901</td>\n",
       "      <td>3.795043</td>\n",
       "      <td>9.549407</td>\n",
       "      <td>408.237154</td>\n",
       "      <td>18.455534</td>\n",
       "      <td>356.674032</td>\n",
       "      <td>12.653063</td>\n",
       "      <td>22.532806</td>\n",
       "    </tr>\n",
       "    <tr>\n",
       "      <th>std</th>\n",
       "      <td>8.601545</td>\n",
       "      <td>23.322453</td>\n",
       "      <td>6.860353</td>\n",
       "      <td>0.253994</td>\n",
       "      <td>0.115878</td>\n",
       "      <td>0.702617</td>\n",
       "      <td>28.148861</td>\n",
       "      <td>2.105710</td>\n",
       "      <td>8.707259</td>\n",
       "      <td>168.537116</td>\n",
       "      <td>2.164946</td>\n",
       "      <td>91.294864</td>\n",
       "      <td>7.141062</td>\n",
       "      <td>9.197104</td>\n",
       "    </tr>\n",
       "    <tr>\n",
       "      <th>min</th>\n",
       "      <td>0.006320</td>\n",
       "      <td>0.000000</td>\n",
       "      <td>0.460000</td>\n",
       "      <td>0.000000</td>\n",
       "      <td>0.385000</td>\n",
       "      <td>3.561000</td>\n",
       "      <td>2.900000</td>\n",
       "      <td>1.129600</td>\n",
       "      <td>1.000000</td>\n",
       "      <td>187.000000</td>\n",
       "      <td>12.600000</td>\n",
       "      <td>0.320000</td>\n",
       "      <td>1.730000</td>\n",
       "      <td>5.000000</td>\n",
       "    </tr>\n",
       "    <tr>\n",
       "      <th>25%</th>\n",
       "      <td>0.082045</td>\n",
       "      <td>0.000000</td>\n",
       "      <td>5.190000</td>\n",
       "      <td>0.000000</td>\n",
       "      <td>0.449000</td>\n",
       "      <td>5.885500</td>\n",
       "      <td>45.025000</td>\n",
       "      <td>2.100175</td>\n",
       "      <td>4.000000</td>\n",
       "      <td>279.000000</td>\n",
       "      <td>17.400000</td>\n",
       "      <td>375.377500</td>\n",
       "      <td>6.950000</td>\n",
       "      <td>17.025000</td>\n",
       "    </tr>\n",
       "    <tr>\n",
       "      <th>50%</th>\n",
       "      <td>0.256510</td>\n",
       "      <td>0.000000</td>\n",
       "      <td>9.690000</td>\n",
       "      <td>0.000000</td>\n",
       "      <td>0.538000</td>\n",
       "      <td>6.208500</td>\n",
       "      <td>77.500000</td>\n",
       "      <td>3.207450</td>\n",
       "      <td>5.000000</td>\n",
       "      <td>330.000000</td>\n",
       "      <td>19.050000</td>\n",
       "      <td>391.440000</td>\n",
       "      <td>11.360000</td>\n",
       "      <td>21.200000</td>\n",
       "    </tr>\n",
       "    <tr>\n",
       "      <th>75%</th>\n",
       "      <td>3.677083</td>\n",
       "      <td>12.500000</td>\n",
       "      <td>18.100000</td>\n",
       "      <td>0.000000</td>\n",
       "      <td>0.624000</td>\n",
       "      <td>6.623500</td>\n",
       "      <td>94.075000</td>\n",
       "      <td>5.188425</td>\n",
       "      <td>24.000000</td>\n",
       "      <td>666.000000</td>\n",
       "      <td>20.200000</td>\n",
       "      <td>396.225000</td>\n",
       "      <td>16.955000</td>\n",
       "      <td>25.000000</td>\n",
       "    </tr>\n",
       "    <tr>\n",
       "      <th>max</th>\n",
       "      <td>88.976200</td>\n",
       "      <td>100.000000</td>\n",
       "      <td>27.740000</td>\n",
       "      <td>1.000000</td>\n",
       "      <td>0.871000</td>\n",
       "      <td>8.780000</td>\n",
       "      <td>100.000000</td>\n",
       "      <td>12.126500</td>\n",
       "      <td>24.000000</td>\n",
       "      <td>711.000000</td>\n",
       "      <td>22.000000</td>\n",
       "      <td>396.900000</td>\n",
       "      <td>37.970000</td>\n",
       "      <td>50.000000</td>\n",
       "    </tr>\n",
       "  </tbody>\n",
       "</table>\n",
       "</div>"
      ],
      "text/plain": [
       "             CRIM          ZN       INDUS        CHAS         NOX          RM  \\\n",
       "count  506.000000  506.000000  506.000000  506.000000  506.000000  506.000000   \n",
       "mean     3.613524   11.363636   11.136779    0.069170    0.554695    6.284634   \n",
       "std      8.601545   23.322453    6.860353    0.253994    0.115878    0.702617   \n",
       "min      0.006320    0.000000    0.460000    0.000000    0.385000    3.561000   \n",
       "25%      0.082045    0.000000    5.190000    0.000000    0.449000    5.885500   \n",
       "50%      0.256510    0.000000    9.690000    0.000000    0.538000    6.208500   \n",
       "75%      3.677083   12.500000   18.100000    0.000000    0.624000    6.623500   \n",
       "max     88.976200  100.000000   27.740000    1.000000    0.871000    8.780000   \n",
       "\n",
       "              AGE         DIS         RAD         TAX     PTRATIO           B  \\\n",
       "count  506.000000  506.000000  506.000000  506.000000  506.000000  506.000000   \n",
       "mean    68.574901    3.795043    9.549407  408.237154   18.455534  356.674032   \n",
       "std     28.148861    2.105710    8.707259  168.537116    2.164946   91.294864   \n",
       "min      2.900000    1.129600    1.000000  187.000000   12.600000    0.320000   \n",
       "25%     45.025000    2.100175    4.000000  279.000000   17.400000  375.377500   \n",
       "50%     77.500000    3.207450    5.000000  330.000000   19.050000  391.440000   \n",
       "75%     94.075000    5.188425   24.000000  666.000000   20.200000  396.225000   \n",
       "max    100.000000   12.126500   24.000000  711.000000   22.000000  396.900000   \n",
       "\n",
       "            LSTAT        MEDV  \n",
       "count  506.000000  506.000000  \n",
       "mean    12.653063   22.532806  \n",
       "std      7.141062    9.197104  \n",
       "min      1.730000    5.000000  \n",
       "25%      6.950000   17.025000  \n",
       "50%     11.360000   21.200000  \n",
       "75%     16.955000   25.000000  \n",
       "max     37.970000   50.000000  "
      ]
     },
     "execution_count": 2,
     "metadata": {},
     "output_type": "execute_result"
    }
   ],
   "source": [
    "boston_dataset = load_boston()\n",
    "boston_frame = pd.DataFrame(data=boston_dataset.data, columns=boston_dataset.feature_names)\n",
    "boston_frame['MEDV'] = boston_dataset.target\n",
    "\n",
    "boston_frame.describe()"
   ]
  },
  {
   "cell_type": "markdown",
   "id": "narrative-constraint",
   "metadata": {},
   "source": [
    "**3)** Se familiariser avec la base de données (p.ex., nombre d’observations, des classes, d’attributs, statistiques des attributs, données manquantes).  \n",
    "Générez un histogramme de la distribution de la variable indépendente."
   ]
  },
  {
   "cell_type": "code",
   "execution_count": 27,
   "id": "simple-breeding",
   "metadata": {},
   "outputs": [
    {
     "name": "stdout",
     "output_type": "stream",
     "text": [
      "CRIM       506\n",
      "ZN         506\n",
      "INDUS      506\n",
      "CHAS       506\n",
      "NOX        506\n",
      "RM         506\n",
      "AGE        506\n",
      "DIS        506\n",
      "RAD        506\n",
      "TAX        506\n",
      "PTRATIO    506\n",
      "B          506\n",
      "LSTAT      506\n",
      "MEDV       506\n",
      "dtype: int64\n",
      "-----------------------------------\n",
      "CRIM       506\n",
      "ZN         506\n",
      "INDUS      506\n",
      "CHAS       506\n",
      "NOX        506\n",
      "RM         506\n",
      "AGE        506\n",
      "DIS        506\n",
      "RAD        506\n",
      "TAX        506\n",
      "PTRATIO    506\n",
      "B          506\n",
      "LSTAT      506\n",
      "MEDV       506\n",
      "dtype: int64\n",
      "-----------------------------------\n",
      "CRIM       0\n",
      "ZN         0\n",
      "INDUS      0\n",
      "CHAS       0\n",
      "NOX        0\n",
      "RM         0\n",
      "AGE        0\n",
      "DIS        0\n",
      "RAD        0\n",
      "TAX        0\n",
      "PTRATIO    0\n",
      "B          0\n",
      "LSTAT      0\n",
      "MEDV       0\n",
      "dtype: int64\n"
     ]
    }
   ],
   "source": [
    "print(boston_frame.count())\n",
    "print(\"-----------------------------------\")\n",
    "print(boston_frame.dropna().count())\n",
    "print(\"-----------------------------------\")\n",
    "print(boston_frame.isnull().sum())"
   ]
  },
  {
   "cell_type": "code",
   "execution_count": 25,
   "id": "rising-stream",
   "metadata": {},
   "outputs": [
    {
     "name": "stdout",
     "output_type": "stream",
     "text": [
      "Index(['CRIM', 'ZN', 'INDUS', 'CHAS', 'NOX', 'RM', 'AGE', 'DIS', 'RAD', 'TAX',\n",
      "       'PTRATIO', 'B', 'LSTAT', 'MEDV'],\n",
      "      dtype='object')\n",
      "14\n"
     ]
    }
   ],
   "source": [
    "print(boston_frame.columns)\n",
    "print(len(boston_frame.columns))"
   ]
  },
  {
   "cell_type": "code",
   "execution_count": 38,
   "id": "guided-episode",
   "metadata": {},
   "outputs": [
    {
     "data": {
      "text/plain": [
       "Text(0, 0.5, 'Numbers of owner-occupied homes')"
      ]
     },
     "execution_count": 38,
     "metadata": {},
     "output_type": "execute_result"
    },
    {
     "data": {
      "image/png": "[encoded data removed]",
      "text/plain": [
       "<Figure size 720x432 with 1 Axes>"
      ]
     },
     "metadata": {
      "needs_background": "light"
     },
     "output_type": "display_data"
    }
   ],
   "source": [
    "#print(boston_frame['MEDV'])\n",
    "plot = pd.plotting.hist_series(boston_frame['MEDV'], legend=True, figsize=(10, 6), bins=30)\n",
    "plot.set_title('', fontsize=15)\n",
    "plot.set_xlabel('MEDV', fontsize=14)\n",
    "plot.set_ylabel('Numbers of owner-occupied homes', fontsize=14)\n",
    "#plot.set_yscale('log')"
   ]
  },
  {
   "cell_type": "markdown",
   "id": "remarkable-accessory",
   "metadata": {},
   "source": [
    "**4)** Visualiser des boxplots des variables MEDV, RM, LSTAT, RAD, DIS et AGE.  \n",
    "Commentez vos observations."
   ]
  },
  {
   "cell_type": "code",
   "execution_count": 49,
   "id": "complimentary-student",
   "metadata": {},
   "outputs": [
    {
     "data": {
      "image/png": "[encoded data removed]",
      "text/plain": [
       "<Figure size 1152x1152 with 6 Axes>"
      ]
     },
     "metadata": {
      "needs_background": "light"
     },
     "output_type": "display_data"
    }
   ],
   "source": [
    "labels_to_show = ['MEDV', 'RM', 'LSTAT', 'RAD', 'DIS', 'AGE']\n",
    "columns_to_show = boston_frame[labels_to_show].columns\n",
    "\n",
    "fig, axes = plt.subplots(3, 3, sharex=False, sharey=False, figsize=(16, 16))\n",
    "for col in range(9):\n",
    "    if(col < len(columns_to_show)):\n",
    "        boston_frame.boxplot(columns_to_show[col], ax=axes[col // 3, col % 3])\n",
    "    else:\n",
    "        fig.delaxes(axes[col // 3, col % 3])\n",
    "    \n",
    "fig.suptitle('Attributes')\n",
    "plt.tight_layout(pad=3)"
   ]
  },
  {
   "cell_type": "markdown",
   "id": "basic-complaint",
   "metadata": {},
   "source": [
    "On observe que certains attributs sont mieux répartis que d'autres. L'attribut RAD par exemple n'est pas très utile.  \n",
    "Certains attributs comme MEDV ou RM possèdent de nombreux outliers."
   ]
  },
  {
   "cell_type": "markdown",
   "id": "certain-navigator",
   "metadata": {},
   "source": [
    "**5)** Créez des modèles en utilisant l’algorithme de régression linéaire simple vue en cours pour estimer la valeur MEDV à partir des variables RM, RAD et LSTAT,\n",
    "chaque fois utilisant seulement une des variables.  \n",
    "\n",
    "Programmez les fonctions pour faire une validation hold-out (e.g., 80% train + 20% test x 100 fois) et pour calculer le coefficient de détermination afin d’évaluer\n",
    "la performance moyenne du modèle.\n",
    "\n",
    "Commentez vos résultats."
   ]
  },
  {
   "cell_type": "code",
   "execution_count": 55,
   "id": "inner-phase",
   "metadata": {},
   "outputs": [],
   "source": [
    "seed(42)\n",
    "\n",
    "def split_test_set(dataset, ratio):\n",
    "    test_set_split = list()\n",
    "    copy = list(dataset)\n",
    "    test_size = int(len(dataset) * ratio)\n",
    "    while len(test_set_split) < test_size:\n",
    "        i = randrange(len(copy))\n",
    "        test_set_split.append(copy.pop(i))\n",
    "    return test_set_split, copy\n",
    "\n",
    "# On garde 1/4 des données pour la validation finale\n",
    "boston_test, boston_train_validation = split_test_set(boston_frame.values.tolist(), 0.20)"
   ]
  },
  {
   "cell_type": "code",
   "execution_count": 53,
   "id": "noble-victim",
   "metadata": {},
   "outputs": [
    {
     "name": "stdout",
     "output_type": "stream",
     "text": [
      "Starting gradient descent at b = [0.48600925], m = [0.07156582], error = [550.21198915]\n",
      "Running...\n",
      "After 0 epochs b = [1.13392021], m = [4.27692849], error = [85.10256404]\n",
      "After 1 epochs b = [0.96951884], m = [3.31504627], error = [60.63303478]\n",
      "After 2 epochs b = [0.99140185], m = [3.53811074], error = [59.33553922]\n",
      "After 3 epochs b = [0.97057201], m = [3.48944348], error = [59.25660415]\n",
      "After 4 epochs b = [0.95954275], m = [3.50308858], error = [59.24175751]\n",
      "After 5 epochs b = [0.94627172], m = [3.50244338], error = [59.23028881]\n",
      "After 6 epochs b = [0.93352048], m = [3.50507432], error = [59.21900546]\n",
      "After 7 epochs b = [0.92065574], m = [3.50695308], error = [59.20773956]\n",
      "After 8 epochs b = [0.90782272], m = [3.50900344], error = [59.19648228]\n",
      "After 9 epochs b = [0.89498811], m = [3.51101355], error = [59.18523314]\n",
      "After 10 epochs b = [0.88215957], m = [3.51303199], error = [59.17399212]\n",
      "After 11 epochs b = [0.86933532], m = [3.51504763], error = [59.1627592]\n",
      "After 12 epochs b = [0.85651577], m = [3.51706302], error = [59.15153439]\n",
      "After 13 epochs b = [0.84370083], m = [3.51907757], error = [59.14031767]\n",
      "After 14 epochs b = [0.83089052], m = [3.52109142], error = [59.12910905]\n",
      "After 15 epochs b = [0.81808483], m = [3.52310454], error = [59.1179085]\n",
      "After 16 epochs b = [0.80528375], m = [3.52511694], error = [59.10671604]\n",
      "After 17 epochs b = [0.7924873], m = [3.52712861], error = [59.09553165]\n",
      "After 18 epochs b = [0.77969546], m = [3.52913955], error = [59.08435533]\n",
      "After 19 epochs b = [0.76690823], m = [3.53114976], error = [59.07318707]\n",
      "After 20 epochs b = [0.75412561], m = [3.53315926], error = [59.06202686]\n",
      "After 21 epochs b = [0.74134761], m = [3.53516802], error = [59.05087471]\n",
      "After 22 epochs b = [0.72857422], m = [3.53717607], error = [59.03973059]\n",
      "After 23 epochs b = [0.71580543], m = [3.53918338], error = [59.02859452]\n",
      "After 24 epochs b = [0.70304125], m = [3.54118998], error = [59.01746648]\n",
      "After 25 epochs b = [0.69028167], m = [3.54319585], error = [59.00634646]\n",
      "After 26 epochs b = [0.6775267], m = [3.54520099], error = [58.99523447]\n",
      "After 27 epochs b = [0.66477632], m = [3.54720542], error = [58.98413049]\n",
      "After 28 epochs b = [0.65203055], m = [3.54920912], error = [58.97303452]\n",
      "After 29 epochs b = [0.63928937], m = [3.5512121], error = [58.96194655]\n",
      "After 30 epochs b = [0.62655279], m = [3.55321435], error = [58.95086658]\n",
      "After 31 epochs b = [0.6138208], m = [3.55521588], error = [58.9397946]\n",
      "After 32 epochs b = [0.60109341], m = [3.55721669], error = [58.92873061]\n",
      "After 33 epochs b = [0.58837061], m = [3.55921678], error = [58.9176746]\n",
      "After 34 epochs b = [0.57565239], m = [3.56121615], error = [58.90662656]\n",
      "After 35 epochs b = [0.56293877], m = [3.5632148], error = [58.8955865]\n",
      "After 36 epochs b = [0.55022973], m = [3.56521272], error = [58.88455439]\n",
      "After 37 epochs b = [0.53752527], m = [3.56720993], error = [58.87353024]\n",
      "After 38 epochs b = [0.5248254], m = [3.56920641], error = [58.86251405]\n",
      "After 39 epochs b = [0.5121301], m = [3.57120218], error = [58.8515058]\n",
      "After 40 epochs b = [0.49943939], m = [3.57319722], error = [58.84050549]\n",
      "After 41 epochs b = [0.48675325], m = [3.57519155], error = [58.82951311]\n",
      "After 42 epochs b = [0.47407169], m = [3.57718515], error = [58.81852867]\n",
      "After 43 epochs b = [0.46139471], m = [3.57917804], error = [58.80755214]\n",
      "After 44 epochs b = [0.44872229], m = [3.58117021], error = [58.79658354]\n",
      "After 45 epochs b = [0.43605445], m = [3.58316166], error = [58.78562284]\n",
      "After 46 epochs b = [0.42339118], m = [3.58515239], error = [58.77467005]\n",
      "After 47 epochs b = [0.41073248], m = [3.5871424], error = [58.76372516]\n",
      "After 48 epochs b = [0.39807834], m = [3.58913169], error = [58.75278817]\n",
      "After 49 epochs b = [0.38542876], m = [3.59112027], error = [58.74185906]\n",
      "After 50 epochs b = [0.38542876], m = [3.59112027], error = [58.74185906]\n"
     ]
    }
   ],
   "source": [
    "linear_regression_attributes = ['RM', 'RAD', 'LSTAT']\n",
    "\n",
    "def compute_MSE(b, m, data):\n",
    "    totalError = 0 # Mean squared error formula\n",
    "    for i in range (0, len(data)):\n",
    "        x = data[i, 0] # variable indépendante\n",
    "        y = data[i, 1] # variable dépendante\n",
    "        totalError += (y-(m*x + b)) ** 2 # somme des différences au carré\n",
    "    return totalError/ float(len(data)) # on divise par N\n",
    "\n",
    "def step_gradient(b_current, m_current, data, learning_rate):\n",
    "    b_gradient = 0\n",
    "    m_gradient = 0\n",
    "    N = float(len(data))\n",
    "    for i in range(0, len(data)):\n",
    "        x = data[i, 0]\n",
    "        y = data[i, 1]\n",
    "        b_gradient += -(1/N) * (y - (m_current * x + b_current))\n",
    "        m_gradient += -(1/N) * x * (y - (m_current * x + b_current))\n",
    "\n",
    "    new_b = b_current - (learning_rate * b_gradient)\n",
    "    new_m = m_current - (learning_rate * m_gradient)\n",
    "    return [new_b,new_m]\n",
    "\n",
    "def gradient_descent(data, starting_b, starting_m, learning_rate, num_epochs):\n",
    "    b = starting_b\n",
    "    m = starting_m\n",
    "    for i in range(num_epochs):\n",
    "        b, m = step_gradient(b, m, np.array(data), learning_rate)\n",
    "        print(\"After {0} epochs b = {1}, m = {2}, error = {3}\".format(i, b, m, compute_MSE(b, m, data)))\n",
    "    return [b, m]\n",
    "\n",
    "#Step 1: Collecter les données\n",
    "#data = genfromtxt('data.csv', delimiter=',')\n",
    "\n",
    "# TODO: check ce qu'il faut donner à data, pas une liste vu l'erreur ??\n",
    "#data = boston_frame[['RM', 'MEDV']].values.tolist()\n",
    "#data = np.array([[1, 2], [3, 4], [5, 6]])\n",
    "data =  np.array(boston_frame[['RM', 'MEDV']].values.tolist())\n",
    "#print(data[0, 1])\n",
    "\n",
    "#Step 2: On choisit les hyperparamètres\n",
    "#learning_rate = 0.0001\n",
    "#num_epochs = 50\n",
    "learning_rate = 0.03\n",
    "num_epochs = 50\n",
    "\n",
    "#Step 3: On initialise la valeur de m et de b\n",
    "initial_b = np.random.rand(1) # intercept\n",
    "initial_m = np.random.rand(1) # pente\n",
    "\n",
    "#Step 4: On applique la méthode du gradient descendant\n",
    "print(\"Starting gradient descent at b = {0}, m = {1}, error = {2}\".format(initial_b, initial_m,\n",
    "compute_MSE(initial_b, initial_m, data)))\n",
    "print(\"Running...\")\n",
    "[b, m] = gradient_descent(data, initial_b, initial_m, learning_rate, num_epochs)\n",
    "print(\"After {0} epochs b = {1}, m = {2}, error = {3}\".format(num_epochs, b, m, compute_MSE(b, m, data)))"
   ]
  },
  {
   "cell_type": "code",
   "execution_count": 54,
   "id": "overhead-macintosh",
   "metadata": {},
   "outputs": [
    {
     "data": {
      "text/plain": [
       "\"\\nfig, ax = plt.subplots(len(linear_regression_attributes), figsize=(10, 20))\\n\\nfor i in range(len(linear_regression_attributes)):\\n    x_data = boston_frame[linear_regression_attributes[i]]\\n    ax[i].scatter(x_data, boston_frame['MEDV'])\\n    x = np.arange(x_data.min(), x_data.max(), 0.5)\\n    ax[i].plot(x, m*x + b, 'r')\\n    ax[i].set_xlabel(linear_regression_attributes[i])\\n    ax[i].set_ylabel('MEDV')\\n\""
      ]
     },
     "execution_count": 54,
     "metadata": {},
     "output_type": "execute_result"
    },
    {
     "data": {
      "image/png": "[encoded data removed]",
      "text/plain": [
       "<Figure size 432x288 with 1 Axes>"
      ]
     },
     "metadata": {
      "needs_background": "light"
     },
     "output_type": "display_data"
    }
   ],
   "source": [
    "# TEMPO\n",
    "linear_regression_attributes = ['RM']\n",
    "\n",
    "x_data = boston_frame[linear_regression_attributes[0]]\n",
    "plt.scatter(x_data, boston_frame['MEDV'])\n",
    "x = np.arange(x_data.min(), x_data.max(), 0.5)\n",
    "plt.plot(x, m*x + b, 'r')\n",
    "plt.xlabel(linear_regression_attributes[i])\n",
    "plt.ylabel('MEDV')\n",
    "\n",
    "\n",
    "# Une fois qu'on aura les 3 variables à la suite\n",
    "'''\n",
    "fig, ax = plt.subplots(len(linear_regression_attributes), figsize=(10, 20))\n",
    "\n",
    "for i in range(len(linear_regression_attributes)):\n",
    "    x_data = boston_frame[linear_regression_attributes[i]]\n",
    "    ax[i].scatter(x_data, boston_frame['MEDV'])\n",
    "    x = np.arange(x_data.min(), x_data.max(), 0.5)\n",
    "    ax[i].plot(x, m*x + b, 'r')\n",
    "    ax[i].set_xlabel(linear_regression_attributes[i])\n",
    "    ax[i].set_ylabel('MEDV')\n",
    "'''"
   ]
  }
 ],
 "metadata": {
  "kernelspec": {
   "display_name": "isd",
   "language": "python",
   "name": "isd"
  },
  "language_info": {
   "codemirror_mode": {
    "name": "ipython",
    "version": 3
   },
   "file_extension": ".py",
   "mimetype": "text/x-python",
   "name": "python",
   "nbconvert_exporter": "python",
   "pygments_lexer": "ipython3",
   "version": "3.9.1"
  }
 },
 "nbformat": 4,
 "nbformat_minor": 5
}
