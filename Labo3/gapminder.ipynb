{
 "cells": [
  {
   "cell_type": "markdown",
   "id": "noticed-penny",
   "metadata": {},
   "source": [
    "# Analyse des données socio-économiques"
   ]
  },
  {
   "cell_type": "code",
   "execution_count": 76,
   "id": "subsequent-india",
   "metadata": {},
   "outputs": [],
   "source": [
    "import numpy as np\n",
    "from matplotlib import pyplot as plt\n",
    "import pandas as pd\n",
    "from gapminder import gapminder"
   ]
  },
  {
   "cell_type": "markdown",
   "id": "resistant-assurance",
   "metadata": {},
   "source": [
    "### 1) \n",
    "\n",
    "Commencez par importer le module gapminder avec pip. Une fois installé ce module, vous aurez accès à un dataframe appelé gapminder.\n",
    "\n",
    "Utilisez les méthodes head(), describe() et info() pour vous familiariser."
   ]
  },
  {
   "cell_type": "code",
   "execution_count": 23,
   "id": "curious-antique",
   "metadata": {},
   "outputs": [
    {
     "data": {
      "text/html": [
       "<div>\n",
       "<style scoped>\n",
       "    .dataframe tbody tr th:only-of-type {\n",
       "        vertical-align: middle;\n",
       "    }\n",
       "\n",
       "    .dataframe tbody tr th {\n",
       "        vertical-align: top;\n",
       "    }\n",
       "\n",
       "    .dataframe thead th {\n",
       "        text-align: right;\n",
       "    }\n",
       "</style>\n",
       "<table border=\"1\" class=\"dataframe\">\n",
       "  <thead>\n",
       "    <tr style=\"text-align: right;\">\n",
       "      <th></th>\n",
       "      <th>country</th>\n",
       "      <th>continent</th>\n",
       "      <th>year</th>\n",
       "      <th>lifeExp</th>\n",
       "      <th>pop</th>\n",
       "      <th>gdpPercap</th>\n",
       "    </tr>\n",
       "  </thead>\n",
       "  <tbody>\n",
       "    <tr>\n",
       "      <th>0</th>\n",
       "      <td>Afghanistan</td>\n",
       "      <td>Asia</td>\n",
       "      <td>1952</td>\n",
       "      <td>28.801</td>\n",
       "      <td>8425333</td>\n",
       "      <td>779.445314</td>\n",
       "    </tr>\n",
       "    <tr>\n",
       "      <th>1</th>\n",
       "      <td>Afghanistan</td>\n",
       "      <td>Asia</td>\n",
       "      <td>1957</td>\n",
       "      <td>30.332</td>\n",
       "      <td>9240934</td>\n",
       "      <td>820.853030</td>\n",
       "    </tr>\n",
       "    <tr>\n",
       "      <th>2</th>\n",
       "      <td>Afghanistan</td>\n",
       "      <td>Asia</td>\n",
       "      <td>1962</td>\n",
       "      <td>31.997</td>\n",
       "      <td>10267083</td>\n",
       "      <td>853.100710</td>\n",
       "    </tr>\n",
       "    <tr>\n",
       "      <th>3</th>\n",
       "      <td>Afghanistan</td>\n",
       "      <td>Asia</td>\n",
       "      <td>1967</td>\n",
       "      <td>34.020</td>\n",
       "      <td>11537966</td>\n",
       "      <td>836.197138</td>\n",
       "    </tr>\n",
       "    <tr>\n",
       "      <th>4</th>\n",
       "      <td>Afghanistan</td>\n",
       "      <td>Asia</td>\n",
       "      <td>1972</td>\n",
       "      <td>36.088</td>\n",
       "      <td>13079460</td>\n",
       "      <td>739.981106</td>\n",
       "    </tr>\n",
       "    <tr>\n",
       "      <th>5</th>\n",
       "      <td>Afghanistan</td>\n",
       "      <td>Asia</td>\n",
       "      <td>1977</td>\n",
       "      <td>38.438</td>\n",
       "      <td>14880372</td>\n",
       "      <td>786.113360</td>\n",
       "    </tr>\n",
       "    <tr>\n",
       "      <th>6</th>\n",
       "      <td>Afghanistan</td>\n",
       "      <td>Asia</td>\n",
       "      <td>1982</td>\n",
       "      <td>39.854</td>\n",
       "      <td>12881816</td>\n",
       "      <td>978.011439</td>\n",
       "    </tr>\n",
       "    <tr>\n",
       "      <th>7</th>\n",
       "      <td>Afghanistan</td>\n",
       "      <td>Asia</td>\n",
       "      <td>1987</td>\n",
       "      <td>40.822</td>\n",
       "      <td>13867957</td>\n",
       "      <td>852.395945</td>\n",
       "    </tr>\n",
       "    <tr>\n",
       "      <th>8</th>\n",
       "      <td>Afghanistan</td>\n",
       "      <td>Asia</td>\n",
       "      <td>1992</td>\n",
       "      <td>41.674</td>\n",
       "      <td>16317921</td>\n",
       "      <td>649.341395</td>\n",
       "    </tr>\n",
       "    <tr>\n",
       "      <th>9</th>\n",
       "      <td>Afghanistan</td>\n",
       "      <td>Asia</td>\n",
       "      <td>1997</td>\n",
       "      <td>41.763</td>\n",
       "      <td>22227415</td>\n",
       "      <td>635.341351</td>\n",
       "    </tr>\n",
       "    <tr>\n",
       "      <th>10</th>\n",
       "      <td>Afghanistan</td>\n",
       "      <td>Asia</td>\n",
       "      <td>2002</td>\n",
       "      <td>42.129</td>\n",
       "      <td>25268405</td>\n",
       "      <td>726.734055</td>\n",
       "    </tr>\n",
       "    <tr>\n",
       "      <th>11</th>\n",
       "      <td>Afghanistan</td>\n",
       "      <td>Asia</td>\n",
       "      <td>2007</td>\n",
       "      <td>43.828</td>\n",
       "      <td>31889923</td>\n",
       "      <td>974.580338</td>\n",
       "    </tr>\n",
       "    <tr>\n",
       "      <th>12</th>\n",
       "      <td>Albania</td>\n",
       "      <td>Europe</td>\n",
       "      <td>1952</td>\n",
       "      <td>55.230</td>\n",
       "      <td>1282697</td>\n",
       "      <td>1601.056136</td>\n",
       "    </tr>\n",
       "  </tbody>\n",
       "</table>\n",
       "</div>"
      ],
      "text/plain": [
       "        country continent  year  lifeExp       pop    gdpPercap\n",
       "0   Afghanistan      Asia  1952   28.801   8425333   779.445314\n",
       "1   Afghanistan      Asia  1957   30.332   9240934   820.853030\n",
       "2   Afghanistan      Asia  1962   31.997  10267083   853.100710\n",
       "3   Afghanistan      Asia  1967   34.020  11537966   836.197138\n",
       "4   Afghanistan      Asia  1972   36.088  13079460   739.981106\n",
       "5   Afghanistan      Asia  1977   38.438  14880372   786.113360\n",
       "6   Afghanistan      Asia  1982   39.854  12881816   978.011439\n",
       "7   Afghanistan      Asia  1987   40.822  13867957   852.395945\n",
       "8   Afghanistan      Asia  1992   41.674  16317921   649.341395\n",
       "9   Afghanistan      Asia  1997   41.763  22227415   635.341351\n",
       "10  Afghanistan      Asia  2002   42.129  25268405   726.734055\n",
       "11  Afghanistan      Asia  2007   43.828  31889923   974.580338\n",
       "12      Albania    Europe  1952   55.230   1282697  1601.056136"
      ]
     },
     "execution_count": 23,
     "metadata": {},
     "output_type": "execute_result"
    }
   ],
   "source": [
    "gapminder.head(13)"
   ]
  },
  {
   "cell_type": "code",
   "execution_count": 9,
   "id": "normal-reservoir",
   "metadata": {},
   "outputs": [
    {
     "data": {
      "text/html": [
       "<div>\n",
       "<style scoped>\n",
       "    .dataframe tbody tr th:only-of-type {\n",
       "        vertical-align: middle;\n",
       "    }\n",
       "\n",
       "    .dataframe tbody tr th {\n",
       "        vertical-align: top;\n",
       "    }\n",
       "\n",
       "    .dataframe thead th {\n",
       "        text-align: right;\n",
       "    }\n",
       "</style>\n",
       "<table border=\"1\" class=\"dataframe\">\n",
       "  <thead>\n",
       "    <tr style=\"text-align: right;\">\n",
       "      <th></th>\n",
       "      <th>year</th>\n",
       "      <th>lifeExp</th>\n",
       "      <th>pop</th>\n",
       "      <th>gdpPercap</th>\n",
       "    </tr>\n",
       "  </thead>\n",
       "  <tbody>\n",
       "    <tr>\n",
       "      <th>count</th>\n",
       "      <td>1704.00000</td>\n",
       "      <td>1704.000000</td>\n",
       "      <td>1.704000e+03</td>\n",
       "      <td>1704.000000</td>\n",
       "    </tr>\n",
       "    <tr>\n",
       "      <th>mean</th>\n",
       "      <td>1979.50000</td>\n",
       "      <td>59.474439</td>\n",
       "      <td>2.960121e+07</td>\n",
       "      <td>7215.327081</td>\n",
       "    </tr>\n",
       "    <tr>\n",
       "      <th>std</th>\n",
       "      <td>17.26533</td>\n",
       "      <td>12.917107</td>\n",
       "      <td>1.061579e+08</td>\n",
       "      <td>9857.454543</td>\n",
       "    </tr>\n",
       "    <tr>\n",
       "      <th>min</th>\n",
       "      <td>1952.00000</td>\n",
       "      <td>23.599000</td>\n",
       "      <td>6.001100e+04</td>\n",
       "      <td>241.165876</td>\n",
       "    </tr>\n",
       "    <tr>\n",
       "      <th>25%</th>\n",
       "      <td>1965.75000</td>\n",
       "      <td>48.198000</td>\n",
       "      <td>2.793664e+06</td>\n",
       "      <td>1202.060309</td>\n",
       "    </tr>\n",
       "    <tr>\n",
       "      <th>50%</th>\n",
       "      <td>1979.50000</td>\n",
       "      <td>60.712500</td>\n",
       "      <td>7.023596e+06</td>\n",
       "      <td>3531.846988</td>\n",
       "    </tr>\n",
       "    <tr>\n",
       "      <th>75%</th>\n",
       "      <td>1993.25000</td>\n",
       "      <td>70.845500</td>\n",
       "      <td>1.958522e+07</td>\n",
       "      <td>9325.462346</td>\n",
       "    </tr>\n",
       "    <tr>\n",
       "      <th>max</th>\n",
       "      <td>2007.00000</td>\n",
       "      <td>82.603000</td>\n",
       "      <td>1.318683e+09</td>\n",
       "      <td>113523.132900</td>\n",
       "    </tr>\n",
       "  </tbody>\n",
       "</table>\n",
       "</div>"
      ],
      "text/plain": [
       "             year      lifeExp           pop      gdpPercap\n",
       "count  1704.00000  1704.000000  1.704000e+03    1704.000000\n",
       "mean   1979.50000    59.474439  2.960121e+07    7215.327081\n",
       "std      17.26533    12.917107  1.061579e+08    9857.454543\n",
       "min    1952.00000    23.599000  6.001100e+04     241.165876\n",
       "25%    1965.75000    48.198000  2.793664e+06    1202.060309\n",
       "50%    1979.50000    60.712500  7.023596e+06    3531.846988\n",
       "75%    1993.25000    70.845500  1.958522e+07    9325.462346\n",
       "max    2007.00000    82.603000  1.318683e+09  113523.132900"
      ]
     },
     "execution_count": 9,
     "metadata": {},
     "output_type": "execute_result"
    }
   ],
   "source": [
    "gapminder.describe()"
   ]
  },
  {
   "cell_type": "code",
   "execution_count": 10,
   "id": "confirmed-perception",
   "metadata": {},
   "outputs": [
    {
     "name": "stdout",
     "output_type": "stream",
     "text": [
      "<class 'pandas.core.frame.DataFrame'>\n",
      "RangeIndex: 1704 entries, 0 to 1703\n",
      "Data columns (total 6 columns):\n",
      " #   Column     Non-Null Count  Dtype  \n",
      "---  ------     --------------  -----  \n",
      " 0   country    1704 non-null   object \n",
      " 1   continent  1704 non-null   object \n",
      " 2   year       1704 non-null   int64  \n",
      " 3   lifeExp    1704 non-null   float64\n",
      " 4   pop        1704 non-null   int64  \n",
      " 5   gdpPercap  1704 non-null   float64\n",
      "dtypes: float64(2), int64(2), object(2)\n",
      "memory usage: 80.0+ KB\n"
     ]
    }
   ],
   "source": [
    "gapminder.info()"
   ]
  },
  {
   "cell_type": "markdown",
   "id": "expensive-feelings",
   "metadata": {},
   "source": [
    "### 2)\n",
    "Utilisez la commande pandas.DataFrame.hist(gapminder) pour vous faire une idée plus précise des valeurs dans la base de données."
   ]
  },
  {
   "cell_type": "code",
   "execution_count": 30,
   "id": "ruled-filing",
   "metadata": {},
   "outputs": [
    {
     "data": {
      "text/plain": [
       "array([[<AxesSubplot:title={'center':'year'}>,\n",
       "        <AxesSubplot:title={'center':'lifeExp'}>],\n",
       "       [<AxesSubplot:title={'center':'pop'}>,\n",
       "        <AxesSubplot:title={'center':'gdpPercap'}>]], dtype=object)"
      ]
     },
     "execution_count": 30,
     "metadata": {},
     "output_type": "execute_result"
    },
    {
     "data": {
      "image/png": "[encoded data removed]",
      "text/plain": [
       "<Figure size 432x288 with 4 Axes>"
      ]
     },
     "metadata": {
      "needs_background": "light"
     },
     "output_type": "display_data"
    }
   ],
   "source": [
    "pd.DataFrame.hist(gapminder, bins='auto')"
   ]
  },
  {
   "cell_type": "markdown",
   "id": "positive-rogers",
   "metadata": {},
   "source": [
    "### Q1. Que pouvez-vous conclure à partir de ces histogrammes ?\n",
    "\n",
    "TODO: add Lazar Text"
   ]
  },
  {
   "cell_type": "markdown",
   "id": "instant-birthday",
   "metadata": {},
   "source": [
    "### 3) \n",
    "\n",
    "Trouvez combien d’observations il y a par pays (c.a.d., combien de données par\n",
    "année par pays) et vérifiez s’il y a des données manquantes."
   ]
  },
  {
   "cell_type": "code",
   "execution_count": 58,
   "id": "front-juvenile",
   "metadata": {},
   "outputs": [
    {
     "name": "stdout",
     "output_type": "stream",
     "text": [
      "Il ne manque aucune donnée.\n"
     ]
    }
   ],
   "source": [
    "observationsByCountry = len(gapminder.loc[gapminder['country'] == 'Afghanistan'])\n",
    "nbCountries = gapminder['country'].nunique()\n",
    "totalObservations = len(gapminder['country'])\n",
    "\n",
    "isMissingValue = nbCountries * observationsByCountry != totalObservations\n",
    "\n",
    "# print(nbCountries)\n",
    "\n",
    "if isMissingValue:\n",
    "    print(\"Il manque des données.\")\n",
    "else:\n",
    "    print(\"Il ne manque aucune donnée.\")\n"
   ]
  },
  {
   "cell_type": "markdown",
   "id": "personal-seventh",
   "metadata": {},
   "source": [
    "### 4) \n",
    "Listez les valeurs uniques présentes dans les colonnes ‘continent’, ‘country’, et ‘year’. p.ex. utilisez la méthode unique()."
   ]
  },
  {
   "cell_type": "code",
   "execution_count": 44,
   "id": "essential-assault",
   "metadata": {},
   "outputs": [
    {
     "data": {
      "text/plain": [
       "array(['Asia', 'Europe', 'Africa', 'Americas', 'Oceania'], dtype=object)"
      ]
     },
     "execution_count": 44,
     "metadata": {},
     "output_type": "execute_result"
    }
   ],
   "source": [
    "gapminder['continent'].unique()"
   ]
  },
  {
   "cell_type": "code",
   "execution_count": 53,
   "id": "asian-handy",
   "metadata": {
    "scrolled": true
   },
   "outputs": [
    {
     "data": {
      "text/plain": [
       "array(['Afghanistan', 'Albania', 'Algeria', 'Angola', 'Argentina',\n",
       "       'Australia', 'Austria', 'Bahrain', 'Bangladesh', 'Belgium',\n",
       "       'Benin', 'Bolivia', 'Bosnia and Herzegovina', 'Botswana', 'Brazil',\n",
       "       'Bulgaria', 'Burkina Faso', 'Burundi', 'Cambodia', 'Cameroon',\n",
       "       'Canada', 'Central African Republic', 'Chad', 'Chile', 'China',\n",
       "       'Colombia', 'Comoros', 'Congo, Dem. Rep.', 'Congo, Rep.',\n",
       "       'Costa Rica', \"Cote d'Ivoire\", 'Croatia', 'Cuba', 'Czech Republic',\n",
       "       'Denmark', 'Djibouti', 'Dominican Republic', 'Ecuador', 'Egypt',\n",
       "       'El Salvador', 'Equatorial Guinea', 'Eritrea', 'Ethiopia',\n",
       "       'Finland', 'France', 'Gabon', 'Gambia', 'Germany', 'Ghana',\n",
       "       'Greece', 'Guatemala', 'Guinea', 'Guinea-Bissau', 'Haiti',\n",
       "       'Honduras', 'Hong Kong, China', 'Hungary', 'Iceland', 'India',\n",
       "       'Indonesia', 'Iran', 'Iraq', 'Ireland', 'Israel', 'Italy',\n",
       "       'Jamaica', 'Japan', 'Jordan', 'Kenya', 'Korea, Dem. Rep.',\n",
       "       'Korea, Rep.', 'Kuwait', 'Lebanon', 'Lesotho', 'Liberia', 'Libya',\n",
       "       'Madagascar', 'Malawi', 'Malaysia', 'Mali', 'Mauritania',\n",
       "       'Mauritius', 'Mexico', 'Mongolia', 'Montenegro', 'Morocco',\n",
       "       'Mozambique', 'Myanmar', 'Namibia', 'Nepal', 'Netherlands',\n",
       "       'New Zealand', 'Nicaragua', 'Niger', 'Nigeria', 'Norway', 'Oman',\n",
       "       'Pakistan', 'Panama', 'Paraguay', 'Peru', 'Philippines', 'Poland',\n",
       "       'Portugal', 'Puerto Rico', 'Reunion', 'Romania', 'Rwanda',\n",
       "       'Sao Tome and Principe', 'Saudi Arabia', 'Senegal', 'Serbia',\n",
       "       'Sierra Leone', 'Singapore', 'Slovak Republic', 'Slovenia',\n",
       "       'Somalia', 'South Africa', 'Spain', 'Sri Lanka', 'Sudan',\n",
       "       'Swaziland', 'Sweden', 'Switzerland', 'Syria', 'Taiwan',\n",
       "       'Tanzania', 'Thailand', 'Togo', 'Trinidad and Tobago', 'Tunisia',\n",
       "       'Turkey', 'Uganda', 'United Kingdom', 'United States', 'Uruguay',\n",
       "       'Venezuela', 'Vietnam', 'West Bank and Gaza', 'Yemen, Rep.',\n",
       "       'Zambia', 'Zimbabwe'], dtype=object)"
      ]
     },
     "execution_count": 53,
     "metadata": {},
     "output_type": "execute_result"
    }
   ],
   "source": [
    "gapminder['country'].unique()"
   ]
  },
  {
   "cell_type": "code",
   "execution_count": 54,
   "id": "radio-concord",
   "metadata": {},
   "outputs": [
    {
     "data": {
      "text/plain": [
       "array([1952, 1957, 1962, 1967, 1972, 1977, 1982, 1987, 1992, 1997, 2002,\n",
       "       2007], dtype=int64)"
      ]
     },
     "execution_count": 54,
     "metadata": {},
     "output_type": "execute_result"
    }
   ],
   "source": [
    "gapminder['year'].unique()"
   ]
  },
  {
   "cell_type": "markdown",
   "id": "preliminary-radar",
   "metadata": {},
   "source": [
    "### 5) \n",
    "\n",
    "Calculez la moyenne de l’espérance de vie de tous les pays en 1952 et en 2007.\n",
    "\n",
    "Générez un bar chart permettant la comparaison de ces moyennes."
   ]
  },
  {
   "cell_type": "code",
   "execution_count": 95,
   "id": "outside-reason",
   "metadata": {},
   "outputs": [
    {
     "data": {
      "text/plain": [
       "Text(0, 0.5, 'Life Experience')"
      ]
     },
     "execution_count": 95,
     "metadata": {},
     "output_type": "execute_result"
    },
    {
     "data": {
      "image/png": "[encoded data removed]",
      "text/plain": [
       "<Figure size 432x288 with 1 Axes>"
      ]
     },
     "metadata": {
      "needs_background": "light"
     },
     "output_type": "display_data"
    }
   ],
   "source": [
    "lifeExpMean = gapminder.groupby('year')['lifeExp'].mean()\n",
    "year = np.array([1952, 2007])\n",
    "lifeExp = lifeExpMean[year]\n",
    "\n",
    "x = np.arange(len(year)) \n",
    "plt.bar(x, lifeExp) \n",
    "plt.xticks(x, year) \n",
    "plt.title('Life Experience Mean 1952 vs 2007') \n",
    "plt.xlabel('Year') \n",
    "plt.ylabel('Life Experience') "
   ]
  },
  {
   "cell_type": "markdown",
   "id": "reliable-cowboy",
   "metadata": {},
   "source": [
    "### 6) \n",
    "Calculez la moyenne de l’espérance de vie des pays par continent en 1952 et en 2007.\n",
    "\n",
    "Générez un bar chart permettant la comparaison de ces moyennes."
   ]
  },
  {
   "cell_type": "code",
   "execution_count": 101,
   "id": "aggressive-feeling",
   "metadata": {},
   "outputs": [
    {
     "name": "stdout",
     "output_type": "stream",
     "text": [
      "continent\n",
      "Africa      48.865330\n",
      "Americas    64.658737\n",
      "Asia        60.064903\n",
      "Europe      71.903686\n",
      "Oceania     74.326208\n",
      "Name: lifeExp, dtype: float64\n"
     ]
    }
   ],
   "source": [
    "lifeExpMean = gapminder.groupby('continent')['lifeExp'].mean()\n",
    "\n",
    "# TODO: make a grouped bar chart, 2 bars by continent (1952 et 2007)\n",
    "\n",
    "print(lifeExpMean)"
   ]
  },
  {
   "cell_type": "markdown",
   "id": "residential-occasion",
   "metadata": {},
   "source": [
    "### Q2. Quel continent a eu la plus grande progression ?\n",
    "\n",
    "TODO"
   ]
  }
 ],
 "metadata": {
  "kernelspec": {
   "display_name": "isd",
   "language": "python",
   "name": "isd"
  },
  "language_info": {
   "codemirror_mode": {
    "name": "ipython",
    "version": 3
   },
   "file_extension": ".py",
   "mimetype": "text/x-python",
   "name": "python",
   "nbconvert_exporter": "python",
   "pygments_lexer": "ipython3",
   "version": "3.9.1"
  }
 },
 "nbformat": 4,
 "nbformat_minor": 5
}
