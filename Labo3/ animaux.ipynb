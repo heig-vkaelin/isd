{
 "cells": [
  {
   "cell_type": "markdown",
   "id": "appreciated-hazard",
   "metadata": {},
   "source": [
    "## Travail pratique 03 – Outils pour le calcul scientifique II\n",
    "Lazar Pavicevic et Valentin Kaelin"
   ]
  },
  {
   "cell_type": "markdown",
   "id": "unknown-deployment",
   "metadata": {},
   "source": [
    "# 2. Base de données d’animaux"
   ]
  },
  {
   "cell_type": "code",
   "execution_count": 2,
   "id": "partial-drunk",
   "metadata": {},
   "outputs": [],
   "source": [
    "import numpy as np\n",
    "from matplotlib import pyplot as plt\n",
    "import pandas as pd\n",
    "from gapminder import gapminder"
   ]
  },
  {
   "cell_type": "markdown",
   "id": "starting-medline",
   "metadata": {},
   "source": [
    "### 1)\n",
    "Créez un notebook pour lire la base de données et générez un dataframe."
   ]
  },
  {
   "cell_type": "code",
   "execution_count": 3,
   "id": "abandoned-precipitation",
   "metadata": {},
   "outputs": [
    {
     "data": {
      "text/html": [
       "<div>\n",
       "<style scoped>\n",
       "    .dataframe tbody tr th:only-of-type {\n",
       "        vertical-align: middle;\n",
       "    }\n",
       "\n",
       "    .dataframe tbody tr th {\n",
       "        vertical-align: top;\n",
       "    }\n",
       "\n",
       "    .dataframe thead th {\n",
       "        text-align: right;\n",
       "    }\n",
       "</style>\n",
       "<table border=\"1\" class=\"dataframe\">\n",
       "  <thead>\n",
       "    <tr style=\"text-align: right;\">\n",
       "      <th></th>\n",
       "      <th>1-1_ActivityCycle</th>\n",
       "      <th>5-1_AdultBodyMass_g</th>\n",
       "      <th>8-1_AdultForearmLen_mm</th>\n",
       "      <th>13-1_AdultHeadBodyLen_mm</th>\n",
       "      <th>2-1_AgeatEyeOpening_d</th>\n",
       "      <th>3-1_AgeatFirstBirth_d</th>\n",
       "      <th>18-1_BasalMetRate_mLO2hr</th>\n",
       "      <th>5-2_BasalMetRateMass_g</th>\n",
       "      <th>6-1_DietBreadth</th>\n",
       "      <th>7-1_DispersalAge_d</th>\n",
       "      <th>...</th>\n",
       "      <th>26-6_GR_MinLong_dd</th>\n",
       "      <th>26-7_GR_MidRangeLong_dd</th>\n",
       "      <th>27-1_HuPopDen_Min_n/km2</th>\n",
       "      <th>27-2_HuPopDen_Mean_n/km2</th>\n",
       "      <th>27-3_HuPopDen_5p_n/km2</th>\n",
       "      <th>27-4_HuPopDen_Change</th>\n",
       "      <th>28-1_Precip_Mean_mm</th>\n",
       "      <th>28-2_Temp_Mean_01degC</th>\n",
       "      <th>30-1_AET_Mean_mm</th>\n",
       "      <th>30-2_PET_Mean_mm</th>\n",
       "    </tr>\n",
       "  </thead>\n",
       "  <tbody>\n",
       "    <tr>\n",
       "      <th>count</th>\n",
       "      <td>5416.000000</td>\n",
       "      <td>5.416000e+03</td>\n",
       "      <td>5416.000000</td>\n",
       "      <td>5416.000000</td>\n",
       "      <td>5416.000000</td>\n",
       "      <td>5416.000000</td>\n",
       "      <td>5416.000000</td>\n",
       "      <td>5416.00000</td>\n",
       "      <td>5416.000000</td>\n",
       "      <td>5416.000000</td>\n",
       "      <td>...</td>\n",
       "      <td>5416.000000</td>\n",
       "      <td>5416.000000</td>\n",
       "      <td>5416.000000</td>\n",
       "      <td>5416.000000</td>\n",
       "      <td>5416.000000</td>\n",
       "      <td>5416.000000</td>\n",
       "      <td>5416.000000</td>\n",
       "      <td>5416.000000</td>\n",
       "      <td>5416.000000</td>\n",
       "      <td>5416.000000</td>\n",
       "    </tr>\n",
       "    <tr>\n",
       "      <th>mean</th>\n",
       "      <td>-692.433346</td>\n",
       "      <td>1.159401e+05</td>\n",
       "      <td>-823.276128</td>\n",
       "      <td>-441.370303</td>\n",
       "      <td>-909.936621</td>\n",
       "      <td>-848.912626</td>\n",
       "      <td>-694.539337</td>\n",
       "      <td>-42.32449</td>\n",
       "      <td>-599.361337</td>\n",
       "      <td>-961.650096</td>\n",
       "      <td>...</td>\n",
       "      <td>-124.978658</td>\n",
       "      <td>-116.195251</td>\n",
       "      <td>-124.672821</td>\n",
       "      <td>-69.937411</td>\n",
       "      <td>-122.373892</td>\n",
       "      <td>-145.818923</td>\n",
       "      <td>-61.841064</td>\n",
       "      <td>-6.574847</td>\n",
       "      <td>580.167897</td>\n",
       "      <td>885.371204</td>\n",
       "    </tr>\n",
       "    <tr>\n",
       "      <th>std</th>\n",
       "      <td>461.384103</td>\n",
       "      <td>2.638103e+06</td>\n",
       "      <td>393.076695</td>\n",
       "      <td>1125.326888</td>\n",
       "      <td>286.985807</td>\n",
       "      <td>552.433154</td>\n",
       "      <td>2775.817235</td>\n",
       "      <td>12409.88190</td>\n",
       "      <td>490.519927</td>\n",
       "      <td>241.549875</td>\n",
       "      <td>...</td>\n",
       "      <td>359.006349</td>\n",
       "      <td>361.919556</td>\n",
       "      <td>354.244136</td>\n",
       "      <td>390.450236</td>\n",
       "      <td>355.359663</td>\n",
       "      <td>352.869151</td>\n",
       "      <td>419.305365</td>\n",
       "      <td>443.838735</td>\n",
       "      <td>896.708034</td>\n",
       "      <td>1009.305361</td>\n",
       "    </tr>\n",
       "    <tr>\n",
       "      <th>min</th>\n",
       "      <td>-999.000000</td>\n",
       "      <td>-9.990000e+02</td>\n",
       "      <td>-999.000000</td>\n",
       "      <td>-999.000000</td>\n",
       "      <td>-999.000000</td>\n",
       "      <td>-999.000000</td>\n",
       "      <td>-999.000000</td>\n",
       "      <td>-999.00000</td>\n",
       "      <td>-999.000000</td>\n",
       "      <td>-999.000000</td>\n",
       "      <td>...</td>\n",
       "      <td>-999.000000</td>\n",
       "      <td>-999.000000</td>\n",
       "      <td>-999.000000</td>\n",
       "      <td>-999.000000</td>\n",
       "      <td>-999.000000</td>\n",
       "      <td>-999.000000</td>\n",
       "      <td>-999.000000</td>\n",
       "      <td>-999.000000</td>\n",
       "      <td>-999.000000</td>\n",
       "      <td>-999.000000</td>\n",
       "    </tr>\n",
       "    <tr>\n",
       "      <th>25%</th>\n",
       "      <td>-999.000000</td>\n",
       "      <td>-9.990000e+02</td>\n",
       "      <td>-999.000000</td>\n",
       "      <td>-999.000000</td>\n",
       "      <td>-999.000000</td>\n",
       "      <td>-999.000000</td>\n",
       "      <td>-999.000000</td>\n",
       "      <td>-999.00000</td>\n",
       "      <td>-999.000000</td>\n",
       "      <td>-999.000000</td>\n",
       "      <td>...</td>\n",
       "      <td>-93.272500</td>\n",
       "      <td>-79.335000</td>\n",
       "      <td>0.000000</td>\n",
       "      <td>6.000000</td>\n",
       "      <td>0.000000</td>\n",
       "      <td>0.030000</td>\n",
       "      <td>29.832500</td>\n",
       "      <td>68.150000</td>\n",
       "      <td>269.327500</td>\n",
       "      <td>639.625000</td>\n",
       "    </tr>\n",
       "    <tr>\n",
       "      <th>50%</th>\n",
       "      <td>-999.000000</td>\n",
       "      <td>2.312500e+01</td>\n",
       "      <td>-999.000000</td>\n",
       "      <td>-999.000000</td>\n",
       "      <td>-999.000000</td>\n",
       "      <td>-999.000000</td>\n",
       "      <td>-999.000000</td>\n",
       "      <td>-999.00000</td>\n",
       "      <td>-999.000000</td>\n",
       "      <td>-999.000000</td>\n",
       "      <td>...</td>\n",
       "      <td>3.055000</td>\n",
       "      <td>16.930000</td>\n",
       "      <td>1.000000</td>\n",
       "      <td>28.850000</td>\n",
       "      <td>2.000000</td>\n",
       "      <td>0.090000</td>\n",
       "      <td>91.065000</td>\n",
       "      <td>199.655000</td>\n",
       "      <td>843.705000</td>\n",
       "      <td>1379.115000</td>\n",
       "    </tr>\n",
       "    <tr>\n",
       "      <th>75%</th>\n",
       "      <td>1.000000</td>\n",
       "      <td>2.819150e+02</td>\n",
       "      <td>-999.000000</td>\n",
       "      <td>131.005000</td>\n",
       "      <td>-999.000000</td>\n",
       "      <td>-999.000000</td>\n",
       "      <td>-999.000000</td>\n",
       "      <td>-999.00000</td>\n",
       "      <td>2.000000</td>\n",
       "      <td>-999.000000</td>\n",
       "      <td>...</td>\n",
       "      <td>89.640000</td>\n",
       "      <td>99.427500</td>\n",
       "      <td>5.000000</td>\n",
       "      <td>75.602500</td>\n",
       "      <td>8.125000</td>\n",
       "      <td>0.120000</td>\n",
       "      <td>154.607500</td>\n",
       "      <td>239.215000</td>\n",
       "      <td>1276.722500</td>\n",
       "      <td>1577.025000</td>\n",
       "    </tr>\n",
       "    <tr>\n",
       "      <th>max</th>\n",
       "      <td>3.000000</td>\n",
       "      <td>1.543213e+08</td>\n",
       "      <td>246.000000</td>\n",
       "      <td>30480.000000</td>\n",
       "      <td>153.500000</td>\n",
       "      <td>5456.750000</td>\n",
       "      <td>113712.000000</td>\n",
       "      <td>407000.00000</td>\n",
       "      <td>8.000000</td>\n",
       "      <td>5248.980000</td>\n",
       "      <td>...</td>\n",
       "      <td>172.340000</td>\n",
       "      <td>175.750000</td>\n",
       "      <td>1119.000000</td>\n",
       "      <td>2060.500000</td>\n",
       "      <td>1119.000000</td>\n",
       "      <td>1.000000</td>\n",
       "      <td>461.000000</td>\n",
       "      <td>350.000000</td>\n",
       "      <td>1858.560000</td>\n",
       "      <td>2107.000000</td>\n",
       "    </tr>\n",
       "  </tbody>\n",
       "</table>\n",
       "<p>8 rows × 49 columns</p>\n",
       "</div>"
      ],
      "text/plain": [
       "       1-1_ActivityCycle  5-1_AdultBodyMass_g  8-1_AdultForearmLen_mm  \\\n",
       "count        5416.000000         5.416000e+03             5416.000000   \n",
       "mean         -692.433346         1.159401e+05             -823.276128   \n",
       "std           461.384103         2.638103e+06              393.076695   \n",
       "min          -999.000000        -9.990000e+02             -999.000000   \n",
       "25%          -999.000000        -9.990000e+02             -999.000000   \n",
       "50%          -999.000000         2.312500e+01             -999.000000   \n",
       "75%             1.000000         2.819150e+02             -999.000000   \n",
       "max             3.000000         1.543213e+08              246.000000   \n",
       "\n",
       "       13-1_AdultHeadBodyLen_mm  2-1_AgeatEyeOpening_d  3-1_AgeatFirstBirth_d  \\\n",
       "count               5416.000000            5416.000000            5416.000000   \n",
       "mean                -441.370303            -909.936621            -848.912626   \n",
       "std                 1125.326888             286.985807             552.433154   \n",
       "min                 -999.000000            -999.000000            -999.000000   \n",
       "25%                 -999.000000            -999.000000            -999.000000   \n",
       "50%                 -999.000000            -999.000000            -999.000000   \n",
       "75%                  131.005000            -999.000000            -999.000000   \n",
       "max                30480.000000             153.500000            5456.750000   \n",
       "\n",
       "       18-1_BasalMetRate_mLO2hr  5-2_BasalMetRateMass_g  6-1_DietBreadth  \\\n",
       "count               5416.000000              5416.00000      5416.000000   \n",
       "mean                -694.539337               -42.32449      -599.361337   \n",
       "std                 2775.817235             12409.88190       490.519927   \n",
       "min                 -999.000000              -999.00000      -999.000000   \n",
       "25%                 -999.000000              -999.00000      -999.000000   \n",
       "50%                 -999.000000              -999.00000      -999.000000   \n",
       "75%                 -999.000000              -999.00000         2.000000   \n",
       "max               113712.000000            407000.00000         8.000000   \n",
       "\n",
       "       7-1_DispersalAge_d  ...  26-6_GR_MinLong_dd  26-7_GR_MidRangeLong_dd  \\\n",
       "count         5416.000000  ...         5416.000000              5416.000000   \n",
       "mean          -961.650096  ...         -124.978658              -116.195251   \n",
       "std            241.549875  ...          359.006349               361.919556   \n",
       "min           -999.000000  ...         -999.000000              -999.000000   \n",
       "25%           -999.000000  ...          -93.272500               -79.335000   \n",
       "50%           -999.000000  ...            3.055000                16.930000   \n",
       "75%           -999.000000  ...           89.640000                99.427500   \n",
       "max           5248.980000  ...          172.340000               175.750000   \n",
       "\n",
       "       27-1_HuPopDen_Min_n/km2  27-2_HuPopDen_Mean_n/km2  \\\n",
       "count              5416.000000               5416.000000   \n",
       "mean               -124.672821                -69.937411   \n",
       "std                 354.244136                390.450236   \n",
       "min                -999.000000               -999.000000   \n",
       "25%                   0.000000                  6.000000   \n",
       "50%                   1.000000                 28.850000   \n",
       "75%                   5.000000                 75.602500   \n",
       "max                1119.000000               2060.500000   \n",
       "\n",
       "       27-3_HuPopDen_5p_n/km2  27-4_HuPopDen_Change  28-1_Precip_Mean_mm  \\\n",
       "count             5416.000000           5416.000000          5416.000000   \n",
       "mean              -122.373892           -145.818923           -61.841064   \n",
       "std                355.359663            352.869151           419.305365   \n",
       "min               -999.000000           -999.000000          -999.000000   \n",
       "25%                  0.000000              0.030000            29.832500   \n",
       "50%                  2.000000              0.090000            91.065000   \n",
       "75%                  8.125000              0.120000           154.607500   \n",
       "max               1119.000000              1.000000           461.000000   \n",
       "\n",
       "       28-2_Temp_Mean_01degC  30-1_AET_Mean_mm  30-2_PET_Mean_mm  \n",
       "count            5416.000000       5416.000000       5416.000000  \n",
       "mean               -6.574847        580.167897        885.371204  \n",
       "std               443.838735        896.708034       1009.305361  \n",
       "min              -999.000000       -999.000000       -999.000000  \n",
       "25%                68.150000        269.327500        639.625000  \n",
       "50%               199.655000        843.705000       1379.115000  \n",
       "75%               239.215000       1276.722500       1577.025000  \n",
       "max               350.000000       1858.560000       2107.000000  \n",
       "\n",
       "[8 rows x 49 columns]"
      ]
     },
     "execution_count": 3,
     "metadata": {},
     "output_type": "execute_result"
    }
   ],
   "source": [
    "filename = 'PanTHERIA_1-0_WR05_Aug2008.txt'\n",
    "\n",
    "df = pd.read_csv(filename, delimiter = '\\t')\n",
    "\n",
    "df.describe()"
   ]
  },
  {
   "cell_type": "markdown",
   "id": "technological-royal",
   "metadata": {},
   "source": [
    "### 2)\n",
    "Prenez la masse corporelle (en grammes) des animaux à leur âge adulte (colonne ``« 5-1_AdultBodyMass_g »``)."
   ]
  },
  {
   "cell_type": "code",
   "execution_count": 4,
   "id": "incredible-agent",
   "metadata": {},
   "outputs": [
    {
     "name": "stdout",
     "output_type": "stream",
     "text": [
      "0       492714.47\n",
      "1        10392.49\n",
      "2         9658.70\n",
      "3        11989.10\n",
      "4        31756.51\n",
      "          ...    \n",
      "5411        40.42\n",
      "5412        93.99\n",
      "5413       123.00\n",
      "5414       100.00\n",
      "5415        95.02\n",
      "Name: 5-1_AdultBodyMass_g, Length: 5416, dtype: float64\n"
     ]
    }
   ],
   "source": [
    "body_mass = df['5-1_AdultBodyMass_g']\n",
    "\n",
    "print(body_mass)"
   ]
  },
  {
   "cell_type": "markdown",
   "id": "binary-gilbert",
   "metadata": {},
   "source": [
    "### 3)\n",
    "Observez la distribution des valeurs, calculez la valeur minimale, la valeur maximale, la moyenne et la médiane. Vérifiez s’il y a des valeurs manquantes, des valeurs aberrantes, etc."
   ]
  },
  {
   "cell_type": "code",
   "execution_count": 39,
   "id": "impaired-behalf",
   "metadata": {},
   "outputs": [
    {
     "name": "stdout",
     "output_type": "stream",
     "text": [
      "count    5.416000e+03\n",
      "mean     1.159401e+05\n",
      "std      2.638103e+06\n",
      "min     -9.990000e+02\n",
      "25%     -9.990000e+02\n",
      "50%      2.312500e+01\n",
      "75%      2.819150e+02\n",
      "max      1.543213e+08\n",
      "Name: 5-1_AdultBodyMass_g, dtype: float64\n",
      "\n",
      "Max: 154321304.5\n",
      "Min: -999.0\n",
      "Mean: 115940.09211964549\n",
      "Median: 23.125\n"
     ]
    }
   ],
   "source": [
    "print(body_mass.describe())\n",
    "\n",
    "print(f'\\nMax: {body_mass.max()}')\n",
    "print(f'Min: {body_mass.min()}')\n",
    "print(f'Mean: {body_mass.mean()}')\n",
    "print(f'Median: {body_mass.median()}')"
   ]
  },
  {
   "cell_type": "code",
   "execution_count": 94,
   "id": "super-delhi",
   "metadata": {},
   "outputs": [
    {
     "name": "stdout",
     "output_type": "stream",
     "text": [
      "Number of Negative Body Mass Values 1874\n"
     ]
    }
   ],
   "source": [
    "# Recherche de masses corporelles négatives\n",
    "negative_body_mass = df.loc[(df['5-1_AdultBodyMass_g'] < 0)]['5-1_AdultBodyMass_g']\n",
    "\n",
    "print(f'Number of Negative Body Mass Values {len(negative_body_mass)}')"
   ]
  },
  {
   "cell_type": "markdown",
   "id": "organized-setup",
   "metadata": {},
   "source": [
    "Valeurs aberrantes: 1874 valeurs négatives (-999 grammes pour une masse corporelle). \n",
    "Il s'agit sûrement d'une valeur par défaut pour des données manquantes car elle est également utilisée dans d'autres colonnes.\n",
    "\n",
    "On peut donc considérer qu'il manque 1874 valeurs de masses corporelles.\n",
    "\n",
    "La valeure maximale d'environ 154'000 kg, correspond à la masse d'une grande baleine bleue. Elle n'est donc pas forcément aberrante mais influence énormément le calcul de la moyenne. La médiane est donc plus représentative de la répartition des données."
   ]
  },
  {
   "cell_type": "markdown",
   "id": "equivalent-pocket",
   "metadata": {},
   "source": [
    "### 4)\n",
    "Générez un histogramme des masses corporelles."
   ]
  },
  {
   "cell_type": "code",
   "execution_count": 11,
   "id": "fossil-bouquet",
   "metadata": {},
   "outputs": [
    {
     "data": {
      "image/png": "[encoded data removed]",
      "text/plain": [
       "<Figure size 720x432 with 1 Axes>"
      ]
     },
     "metadata": {
      "needs_background": "light"
     },
     "output_type": "display_data"
    }
   ],
   "source": [
    "animals_body_mass = df.loc[df['5-1_AdultBodyMass_g'] > 0]['5-1_AdultBodyMass_g']\n",
    "plot = pd.plotting.hist_series(animals_body_mass, legend=True, figsize=(10, 6), bins=10)\n",
    "plot.set_title('Adult Body Mass', fontsize=15)\n",
    "plot.set_xlabel('Body Mass (grams)', fontsize=14)\n",
    "plot.set_ylabel('Amount (log scale)', fontsize=14)\n",
    "plot.set_yscale('log')"
   ]
  },
  {
   "cell_type": "markdown",
   "id": "abstract-bride",
   "metadata": {},
   "source": [
    "### Q6. Que pouvez-vous conclure à partir de cet histogramme ?\n",
    "\n",
    "La distribution est unimodale et asymétrique.  \n",
    "Etant donné que les données s'étendent sur une large échelle, allant de quelques grammes à plus d'une centaine de tonnes, les premiers bins de l'histogramme regroupent une très grande partie des animaux. En effet, le 1er bin contient tous les animaux de 1g à environ 18'000 kg.\n",
    "\n",
    "De plus, les deux derniers bins peuplés contiennent au final qu'un animal chacun. Il s'agit de la baleine boréale pour l'avant dernier et de la baleine bleue pour le dernier."
   ]
  },
  {
   "cell_type": "markdown",
   "id": "representative-decade",
   "metadata": {},
   "source": [
    "### 5)\n",
    "Générez un histogramme des masses corporelles, mais pour les animaux qui n’atteignent pas les 50Kg à leur âge adulte."
   ]
  },
  {
   "cell_type": "code",
   "execution_count": 16,
   "id": "corrected-voice",
   "metadata": {},
   "outputs": [
    {
     "data": {
      "image/png": "[encoded data removed]",
      "text/plain": [
       "<Figure size 720x432 with 1 Axes>"
      ]
     },
     "metadata": {
      "needs_background": "light"
     },
     "output_type": "display_data"
    }
   ],
   "source": [
    "small_animals_body_mass = df.loc[(df['5-1_AdultBodyMass_g'] > 0) & (df['5-1_AdultBodyMass_g'] < 50_000)]['5-1_AdultBodyMass_g']\n",
    "\n",
    "plot = pd.plotting.hist_series(small_animals_body_mass, legend=True, figsize=(10, 6), bins=50)\n",
    "plot.set_title('Adult Body Mass < 50kg', fontsize=15)\n",
    "plot.set_xlabel('Body Mass (grams)', fontsize=14)\n",
    "plot.set_ylabel('Amount (log scale)', fontsize=14)\n",
    "plot.set_yscale('log')"
   ]
  },
  {
   "cell_type": "markdown",
   "id": "impossible-location",
   "metadata": {},
   "source": [
    "### Q7. Que pouvez-vous conclure à partir de cet histogramme ?\n",
    "\n",
    "La distribution est unimodale et asymétrique.\n",
    "L'histogramme a un bien meilleure répartition que le précédent par son échelle beaucoup plus condensée. On observe qu'il y a une représentation très élevée d'animaux légers qu'on avait pu constater avec le calcul de la médiane effectué précédemment."
   ]
  },
  {
   "cell_type": "markdown",
   "id": "distributed-cycling",
   "metadata": {},
   "source": [
    "# 3 Loi de Benford"
   ]
  },
  {
   "cell_type": "markdown",
   "id": "light-metadata",
   "metadata": {},
   "source": [
    "### 1)\n",
    "Prenez la masse corporelle (en grammes) des animaux à leur âge adulte (colonne « 5-1_AdultBodyMass_g ») après filtrage des données manquantes ou aberrantes."
   ]
  },
  {
   "cell_type": "code",
   "execution_count": 7,
   "id": "roman-norway",
   "metadata": {},
   "outputs": [
    {
     "name": "stdout",
     "output_type": "stream",
     "text": [
      "0       492714.47\n",
      "1        10392.49\n",
      "2         9658.70\n",
      "3        11989.10\n",
      "4        31756.51\n",
      "          ...    \n",
      "5411        40.42\n",
      "5412        93.99\n",
      "5413       123.00\n",
      "5414       100.00\n",
      "5415        95.02\n",
      "Name: 5-1_AdultBodyMass_g, Length: 3542, dtype: float64\n",
      "3542\n"
     ]
    }
   ],
   "source": [
    "animals_body_mass = df.loc[(df['5-1_AdultBodyMass_g'] > 0)].dropna()['5-1_AdultBodyMass_g']\n",
    "\n",
    "print(animals_body_mass)\n",
    "print(len(animals_body_mass))"
   ]
  },
  {
   "cell_type": "markdown",
   "id": "above-police",
   "metadata": {},
   "source": [
    "### 2)\n",
    "Extrayez le chiffre le plus significatif de la masse corporelle des animaux."
   ]
  },
  {
   "cell_type": "code",
   "execution_count": 8,
   "id": "ancient-samba",
   "metadata": {},
   "outputs": [
    {
     "name": "stdout",
     "output_type": "stream",
     "text": [
      "[4, 1, 9, 1, 3, 8, 5, 6, 1, 8, 9, 1, 9, 3, 3, 2, 2, 1, 5, 7, 6, 1, 8, 1, 4, 3, 5, 5, 4, 6, 9, 3, 6, 7, 9, 7, 6, 8, 9, 9]\n",
      "3542\n"
     ]
    }
   ],
   "source": [
    "most_significant = [int(str(x)[:1]) for x in animals_body_mass]\n",
    "\n",
    "print(most_significant[0:40])\n",
    "print(len(most_significant))"
   ]
  },
  {
   "cell_type": "markdown",
   "id": "twenty-quarter",
   "metadata": {},
   "source": [
    "### 3)\n",
    "Calculez la fréquence d’apparition de chaque digit pour l‘ensemble d’animaux."
   ]
  },
  {
   "cell_type": "code",
   "execution_count": 9,
   "id": "spanish-context",
   "metadata": {},
   "outputs": [
    {
     "name": "stdout",
     "output_type": "stream",
     "text": [
      "1    27.583286\n",
      "2    18.520610\n",
      "4    11.321287\n",
      "3    10.700169\n",
      "5     7.509881\n",
      "7     7.029927\n",
      "6     6.860531\n",
      "8     6.126482\n",
      "9     4.347826\n",
      "dtype: float64\n",
      "3542\n"
     ]
    }
   ],
   "source": [
    "frequency = pd.Series(most_significant).value_counts()\n",
    "total = sum(frequency)\n",
    "\n",
    "frequency /= total * 0.01\n",
    "print(frequency)\n",
    "print(total)"
   ]
  },
  {
   "cell_type": "markdown",
   "id": "joined-museum",
   "metadata": {},
   "source": [
    "### 4) \n",
    "Comparer vos résultats avec la loi de Benford. Présentez une bar chart présentant cette comparaison. "
   ]
  },
  {
   "cell_type": "code",
   "execution_count": 10,
   "id": "signed-prescription",
   "metadata": {},
   "outputs": [
    {
     "data": {
      "text/plain": [
       "Text(0, 0.5, 'Frequency in %')"
      ]
     },
     "execution_count": 10,
     "metadata": {},
     "output_type": "execute_result"
    },
    {
     "data": {
      "image/png": "[encoded data removed]",
      "text/plain": [
       "<Figure size 720x432 with 1 Axes>"
      ]
     },
     "metadata": {
      "needs_background": "light"
     },
     "output_type": "display_data"
    }
   ],
   "source": [
    "x = frequency.keys()\n",
    "plt.figure(figsize=(10, 6))\n",
    "plt.bar(x, frequency.values)\n",
    "plt.xticks(x)\n",
    "plt.title('Digit Frequency Bar Chart - AdultBodyMass')\n",
    "plt.xlabel('Digit')\n",
    "plt.ylabel('Frequency in %')"
   ]
  },
  {
   "cell_type": "markdown",
   "id": "transparent-happiness",
   "metadata": {},
   "source": [
    "### Q8. Que pouvez-vous observer ? Commentez vos résultats.\n",
    "\n",
    "La loi de Benford est bien respectée pour la majorité des digits. En effet, on observe cependant que les digits 4 et 7 sont supérieurs à leur digit précédent, ce qui est théoriquement contraire à la loi. On peut quand même conclure que nous pouvons nous fier aux données analysées via la loi car les différences restent très minimes (moins d'un pourcent) pour les écarts observés."
   ]
  },
  {
   "cell_type": "markdown",
   "id": "vietnamese-atlas",
   "metadata": {},
   "source": [
    "### 5)\n",
    "Essayez une autre variable pour vérifier si elle répond à la loi de Benford. "
   ]
  },
  {
   "cell_type": "code",
   "execution_count": 61,
   "id": "painful-redhead",
   "metadata": {},
   "outputs": [
    {
     "data": {
      "text/plain": [
       "Text(0, 0.5, 'Frequency in %')"
      ]
     },
     "execution_count": 61,
     "metadata": {},
     "output_type": "execute_result"
    },
    {
     "data": {
      "image/png": "[encoded data removed]",
      "text/plain": [
       "<Figure size 720x432 with 1 Axes>"
      ]
     },
     "metadata": {
      "needs_background": "light"
     },
     "output_type": "display_data"
    }
   ],
   "source": [
    "from math import floor, log10\n",
    "\n",
    "# Nous avons dû utiliser une autre méthode pour isoler le chiffre significatif car certaines valeurs sont plus petites que 1,\n",
    "# contrairement aux valeurs de la masse corporelle utilisées précédemment. La méthode qui convertissait en chaîne de caractères\n",
    "# prenait donc, à tort, le 0 comme le chiffre significatif.\n",
    "\n",
    "huPopDen_mean = df.loc[(df['27-2_HuPopDen_Mean_n/km2'] > 0)]['27-2_HuPopDen_Mean_n/km2']\n",
    "most_significant_digits = [floor(x/(10**floor(log10(x)))) for x in huPopDen_mean]\n",
    "digits_frequency = pd.Series(most_significant_digits).value_counts()\n",
    "digits_frequency /= len(huPopDen_mean) * 0.01\n",
    "\n",
    "x = digits_frequency.keys()\n",
    "plt.figure(figsize=(10, 6))\n",
    "plt.bar(x, digits_frequency.values)\n",
    "plt.xticks(x)\n",
    "plt.title('Digit Frequency Bar Chart - HuPopDen_Mean')\n",
    "plt.xlabel('Digit')\n",
    "plt.ylabel('Frequency in %')"
   ]
  },
  {
   "cell_type": "markdown",
   "id": "difficult-legislature",
   "metadata": {},
   "source": [
    "### Q9. Commentez vos résultats.\n",
    "\n",
    "La loi de Benford est parfaitement respectée. Ce qui confirme la fiabilité des données reçues."
   ]
  }
 ],
 "metadata": {
  "kernelspec": {
   "display_name": "isd",
   "language": "python",
   "name": "isd"
  },
  "language_info": {
   "codemirror_mode": {
    "name": "ipython",
    "version": 3
   },
   "file_extension": ".py",
   "mimetype": "text/x-python",
   "name": "python",
   "nbconvert_exporter": "python",
   "pygments_lexer": "ipython3",
   "version": "3.9.1"
  }
 },
 "nbformat": 4,
 "nbformat_minor": 5
}
