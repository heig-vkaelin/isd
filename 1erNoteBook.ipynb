{
 "cells": [
  {
   "cell_type": "code",
   "execution_count": 1,
   "id": "split-signal",
   "metadata": {
    "scrolled": true
   },
   "outputs": [
    {
     "data": {
      "text/plain": [
       "37.68"
      ]
     },
     "execution_count": 1,
     "metadata": {},
     "output_type": "execute_result"
    }
   ],
   "source": [
    "3.14 * 12"
   ]
  },
  {
   "cell_type": "code",
   "execution_count": 2,
   "id": "smoking-holiday",
   "metadata": {},
   "outputs": [
    {
     "name": "stdout",
     "output_type": "stream",
     "text": [
      "Hello World\n"
     ]
    }
   ],
   "source": [
    "print(\"Hello World\")"
   ]
  },
  {
   "cell_type": "code",
   "execution_count": 5,
   "id": "heated-chase",
   "metadata": {},
   "outputs": [
    {
     "name": "stdout",
     "output_type": "stream",
     "text": [
      " Le volume dans le lecteur C n’a pas de nom.\n",
      " Le numéro de série du volume est 7C75-DDFF\n",
      "\n",
      " Répertoire de C:\\Users\\Valentin\\Desktop\n",
      "\n",
      "24.02.2021  11:06    <DIR>          .\n",
      "24.02.2021  11:06    <DIR>          ..\n",
      "24.02.2021  11:06    <DIR>          .ipynb_checkpoints\n",
      "30.08.2020  10:02             2 348 Blisk.lnk\n",
      "07.11.2019  23:52            17 631 GlobalFiltersVue.png\n",
      "25.01.2021  23:09               118 IdeesSummonerNames.txt\n",
      "14.01.2020  21:23    <DIR>          Loaders\n",
      "03.10.2020  22:12             2 449 MongoDBCompass.lnk\n",
      "29.12.2020  20:23                41 PathVolta.txt\n",
      "09.11.2020  13:39               960 Peace.lnk\n",
      "18.12.2020  21:18           299 445 ReadFileCPP.png\n",
      "14.08.2020  16:53         1 363 975 RoutineHandStandForce.png\n",
      "07.04.2019  16:02            58 810 saveSettings.png\n",
      "22.02.2021  10:00    <DIR>          Sport Confinement\n",
      "30.01.2021  01:09            53 201 StatsLeagueStats.xlsx\n",
      "20.12.2020  01:53           413 585 TestAffinityLS.afdesign\n",
      "24.02.2021  11:06                72 Untitled.ipynb\n",
      "              12 fichier(s)        2 212 635 octets\n",
      "               5 Rép(s)  66 584 924 160 octets libres\n"
     ]
    }
   ],
   "source": [
    "!dir"
   ]
  },
  {
   "cell_type": "markdown",
   "id": "gothic-moldova",
   "metadata": {},
   "source": [
    "## Ceci est un titre"
   ]
  },
  {
   "cell_type": "code",
   "execution_count": 7,
   "id": "incorporate-september",
   "metadata": {},
   "outputs": [
    {
     "name": "stdout",
     "output_type": "stream",
     "text": [
      "<class 'int'>\n",
      "3\n",
      "4\n",
      "2\n",
      "6\n",
      "9\n",
      "4\n",
      "8\n",
      "1\n",
      "<class 'float'>\n",
      "2.5 3.5 5.0 6.25\n"
     ]
    }
   ],
   "source": [
    "x\t=\t3\t\n",
    "print(type(x))\t#\tPrints\t\"<class\t'int'>\"\t\n",
    "print(x)\t\t#\tPrints\t\"3\"\t\n",
    "print(x\t+\t1)\t#\tAddition;\tprints\t\"4\"\t\n",
    "print(x\t-\t1)\t#\tSubtraction;\tprints\t\"2\"\t\n",
    "print(x\t*\t2)\t#\tMultiplication;\tprints\t\"6\"\t\n",
    "print(x\t**\t2)\t#\tExponentiation;\tprints\t\"9\"\t\n",
    "x\t+=\t1\t\t#\tajoute\t1\tà\tx\t\n",
    "print(x)\t\t#\tPrints\t\"4\"\t\n",
    "x\t*=\t2\t\t#\tmultiplie\tx\tpar\t2\t\n",
    "print(x)\t\t#\tPrints\t“8\"\t\n",
    "print(7\t%\t2)\t#\tPrints\t1,\tthe\treminder\tof\t7\t/\t2\t\n",
    "y\t=\t2.5\t\n",
    "print(type(y))\t#\tPrints\t\"<class\t'float'>\"\t\n",
    "print(y, y + 1, y * 2, y ** 2)\t#\tPrints\t\"2.5\t3.5\t5.0\t6.25\""
   ]
  },
  {
   "cell_type": "code",
   "execution_count": 9,
   "id": "working-clause",
   "metadata": {},
   "outputs": [
    {
     "name": "stdout",
     "output_type": "stream",
     "text": [
      "hello world 12\n",
      "Le carré de 8 est 64\n",
      "L'âge de Pierre est 42 ans\n"
     ]
    }
   ],
   "source": [
    "mot1='hello' \n",
    "mot2='world' \n",
    "hw12 = f'{mot1} {mot2} 12' # Prints hello world 12 \n",
    "print(hw12)\n",
    "print(f'Le carré de 8 est {8 * 8}') # Prints Le carré de 8 est 64 \n",
    "name='Pierre' \n",
    "age=42 \n",
    "print(f'L\\'âge de {name} est {age} ans') # Prints L’âge de Pierre est 42 ans "
   ]
  },
  {
   "cell_type": "code",
   "execution_count": 10,
   "id": "built-edmonton",
   "metadata": {},
   "outputs": [
    {
     "name": "stdout",
     "output_type": "stream",
     "text": [
      "[3, 1, 2] 2\n",
      "2\n",
      "[3, 1, 'foo']\n",
      "[3, 1, 'foo', 'bar']\n",
      "bar [3, 1, 'foo']\n"
     ]
    }
   ],
   "source": [
    "xs = [3, 1, 2] # Create a list \n",
    "print(xs, xs[2]) # Prints \"[3, 1, 2] 2\" \n",
    "print(xs[-1]) # Negative indices count from the end of the list; prints “2\" \n",
    "xs[2] = 'foo' # Lists can contain elements of different types \n",
    "print(xs) # Prints \"[3, 1, ‘foo']\" \n",
    "xs.append('bar') # Add a new element to the end of the list \n",
    "print(xs) # Prints \"[3, 1, 'foo', ‘bar']\" \n",
    "x = xs.pop() # Remove and return the last element of the list \n",
    "print(x, xs) # Prints \"bar [3, 1, 'foo']\""
   ]
  },
  {
   "cell_type": "code",
   "execution_count": 11,
   "id": "determined-reason",
   "metadata": {},
   "outputs": [
    {
     "name": "stdout",
     "output_type": "stream",
     "text": [
      "[0, 1, 2, 3, 4]\n",
      "[2, 3]\n",
      "[2, 3, 4]\n",
      "[0, 1]\n",
      "[0, 1, 2, 3, 4]\n",
      "[0, 1, 2, 3]\n",
      "[0, 1, 8, 9, 4]\n"
     ]
    },
    {
     "data": {
      "text/plain": [
       "[4, 9, 8, 1, 0]"
      ]
     },
     "execution_count": 11,
     "metadata": {},
     "output_type": "execute_result"
    }
   ],
   "source": [
    "nums = list(range(5)) # range is a built-in function that creates a list of integers \n",
    "print(nums) # Prints \"[0, 1, 2, 3, 4]\" \n",
    "print(nums[2:4]) # Get a slice from index 2 to 4 (exclusive); prints \"[2, 3]\" \n",
    "print(nums[2:]) # Get a slice from index 2 to the end; prints \"[2, 3, 4]\" \n",
    "print(nums[:2]) # Get a slice from the start to index 2 (exclusive); prints \"[0, 1]” \n",
    "print(nums[:]) # Get a slice of the whole list; prints \"[0, 1, 2, 3, 4]\" \n",
    "print(nums[:-1]) # Slice indices can be negative; prints \"[0, 1, 2, 3]” \n",
    "nums[2:4] = [8, 9] # Assign a new sublist to a slice \n",
    "print(nums) # Prints \"[0, 1, 8, 9, 4]” \n",
    "nums[::-1] # inverse l’ordre de la liste"
   ]
  },
  {
   "cell_type": "code",
   "execution_count": 12,
   "id": "sharp-twelve",
   "metadata": {},
   "outputs": [
    {
     "name": "stdout",
     "output_type": "stream",
     "text": [
      "cat\n",
      "dog\n",
      "monkey\n",
      "#0: cat\n",
      "#1: dog\n",
      "#2: monkey\n"
     ]
    }
   ],
   "source": [
    "animals = ['cat', 'dog', 'monkey'] \n",
    "for animal in animals: \n",
    " print(animal) \n",
    "# Prints \"cat\", \"dog\", \"monkey\", each on its own line.\n",
    "\n",
    "animals = ['cat', 'dog', 'monkey'] \n",
    "for idx, animal in enumerate(animals): \n",
    " print(f'#{idx}: {animal}') \n",
    "# Prints \"#1: cat\", \"#2: dog\", \"#3: monkey\", each on its own line"
   ]
  },
  {
   "cell_type": "code",
   "execution_count": 13,
   "id": "bibliographic-array",
   "metadata": {},
   "outputs": [
    {
     "name": "stdout",
     "output_type": "stream",
     "text": [
      "[0, 1, 4, 9, 16]\n",
      "[0, 4, 16]\n"
     ]
    }
   ],
   "source": [
    "nums = [0, 1, 2, 3, 4] \n",
    "squares = [x ** 2 for x in nums] \n",
    "print(squares) # Prints [0, 1, 4, 9, 16] \n",
    "nums = [0, 1, 2, 3, 4] \n",
    "even_squares = [x ** 2 for x in nums if x % 2 == 0] \n",
    "print(even_squares) # Prints \"[0, 4, 16]\""
   ]
  },
  {
   "cell_type": "code",
   "execution_count": 14,
   "id": "surprising-philadelphia",
   "metadata": {},
   "outputs": [
    {
     "name": "stdout",
     "output_type": "stream",
     "text": [
      "0\n",
      "1\n",
      "2\n",
      "3\n",
      "4\n",
      "5\n",
      "6\n",
      "7\n",
      "8\n",
      "9\n",
      "0\n",
      "1\n",
      "2\n",
      "3\n",
      "4\n",
      "5\n",
      "6\n",
      "7\n",
      "8\n",
      "9\n",
      "7\n",
      "8\n",
      "9\n",
      "0\n",
      "3\n",
      "5\n",
      "8\n",
      "3\n",
      "3\n",
      "5\n",
      "7\n"
     ]
    }
   ],
   "source": [
    "for x in [0, 1, 2, 3, 4, 5, 6, 7, 8, 9]: \n",
    " print(x) # Prints 0 à 9 \n",
    "for x in range(10): \n",
    " print(x) # Prints 0 à 9 \n",
    "for x in range(7,10): \n",
    " print(x) # Prints 7 8 9 \n",
    "liste = [0,3,5,8,3,3,5,7] \n",
    "for x in liste: \n",
    " print(x) # Prints 0 3 5 8 3 3 5 7"
   ]
  },
  {
   "cell_type": "code",
   "execution_count": 16,
   "id": "collective-vocabulary",
   "metadata": {},
   "outputs": [
    {
     "name": "stdout",
     "output_type": "stream",
     "text": [
      "x est divisible par 2\n",
      "99\n",
      "97\n",
      "95\n",
      "93\n",
      "91\n",
      "89\n",
      "87\n",
      "85\n",
      "83\n",
      "81\n",
      "79\n",
      "77\n",
      "75\n",
      "73\n",
      "71\n",
      "69\n",
      "67\n",
      "65\n",
      "63\n",
      "61\n",
      "59\n",
      "57\n",
      "55\n",
      "53\n",
      "51\n",
      "49\n",
      "47\n",
      "45\n",
      "43\n",
      "41\n",
      "39\n",
      "37\n",
      "35\n",
      "33\n",
      "31\n",
      "29\n",
      "27\n",
      "25\n",
      "23\n",
      "21\n",
      "19\n",
      "17\n",
      "15\n",
      "13\n",
      "11\n",
      "9\n",
      "7\n",
      "5\n",
      "3\n",
      "1\n"
     ]
    }
   ],
   "source": [
    "x = 3 \n",
    "if x % 2: \n",
    " print(\"x est divisible par 2\") \n",
    "elif x % 3 == 0: \n",
    " print(\"x est divisible par 3\") \n",
    "else : \n",
    " print(\"x n'est pas divisible ni par 2 ni par 3\") \n",
    "x = 101 \n",
    "while x != 1: \n",
    " x = x - 2 \n",
    " print(x) "
   ]
  },
  {
   "cell_type": "code",
   "execution_count": 19,
   "id": "standing-imperial",
   "metadata": {},
   "outputs": [
    {
     "name": "stdout",
     "output_type": "stream",
     "text": [
      "negative\n",
      "zero\n",
      "positive\n"
     ]
    }
   ],
   "source": [
    "def sign(x): \n",
    "    if x > 0: \n",
    "        return 'positive' \n",
    "    elif x < 0: \n",
    "        return 'negative' \n",
    "    else: \n",
    "        return 'zero' \n",
    "for x in [-1, 0, 1]: \n",
    "    print(sign(x)) \n",
    "# Prints \"negative\", \"zero\", \"positive\" "
   ]
  },
  {
   "cell_type": "code",
   "execution_count": 20,
   "id": "latter-sender",
   "metadata": {},
   "outputs": [],
   "source": [
    "import numpy as np"
   ]
  },
  {
   "cell_type": "code",
   "execution_count": null,
   "id": "modular-drill",
   "metadata": {},
   "outputs": [],
   "source": []
  }
 ],
 "metadata": {
  "kernelspec": {
   "display_name": "Python 3",
   "language": "python",
   "name": "python3"
  },
  "language_info": {
   "codemirror_mode": {
    "name": "ipython",
    "version": 3
   },
   "file_extension": ".py",
   "mimetype": "text/x-python",
   "name": "python",
   "nbconvert_exporter": "python",
   "pygments_lexer": "ipython3",
   "version": "3.9.1"
  }
 },
 "nbformat": 4,
 "nbformat_minor": 5
}
