{
 "cells": [
  {
   "cell_type": "markdown",
   "id": "activated-birth",
   "metadata": {},
   "source": [
    "## Exercices Numpy"
   ]
  },
  {
   "cell_type": "markdown",
   "id": "incorporate-bones",
   "metadata": {},
   "source": [
    "### 1\n",
    "\n",
    "Créez un array avec les entiers 0 à 10 et générez en sortie un array où les valeurs\n",
    "impaires de l'array ont été remplacées par des -1.\n",
    "\n",
    "Sortie désirée : array([ 0, -1, 2, -1, 4, -1, 6, -1, 8, -1])"
   ]
  },
  {
   "cell_type": "code",
   "execution_count": 12,
   "id": "modular-oxford",
   "metadata": {},
   "outputs": [
    {
     "name": "stdout",
     "output_type": "stream",
     "text": [
      "[ 0 -1  2 -1  4 -1  6 -1  8 -1]\n"
     ]
    }
   ],
   "source": [
    "import numpy as np\n",
    "\n",
    "a = np.arange(10)\n",
    "a[a % 2 == 1] = -1  \n",
    "\n",
    "print(a)"
   ]
  },
  {
   "cell_type": "markdown",
   "id": "thermal-venture",
   "metadata": {},
   "source": [
    "### 2\n",
    "\n",
    "Créez un array avec les entiers de 0 à 100 et générez en sortie un array contenant\n",
    "seulement les nombres premiers.\n",
    "\n",
    "Aide: commencez par créer une fonction qui calcule si un nombre entier est un nombre\n",
    "premier (c.a.d., qu’il n'est pas divisible par 2,3,4,5.... ni par sqrt(n), où n est le nombre\n",
    "testé)."
   ]
  },
  {
   "cell_type": "code",
   "execution_count": 77,
   "id": "banned-tunnel",
   "metadata": {},
   "outputs": [
    {
     "name": "stdout",
     "output_type": "stream",
     "text": [
      "[2, 3, 5, 7, 11, 13, 17, 19, 23, 29, 31, 37, 41, 43, 47, 53, 59, 61, 67, 71, 73, 79, 83, 89, 97]\n"
     ]
    }
   ],
   "source": [
    "import numpy as np\n",
    "\n",
    "def isPrime(n):\n",
    "    if(n < 2): return False\n",
    "    for x in range(2, (int)(np.sqrt(n)) + 1):\n",
    "        if n % x == 0:\n",
    "            return False\n",
    "    return True\n",
    "\n",
    "a = np.arange(100)\n",
    "prime = [i for i in a if isPrime(i)]\n",
    "\n",
    "print(prime)"
   ]
  },
  {
   "cell_type": "markdown",
   "id": "median-overall",
   "metadata": {},
   "source": [
    "### 3\n",
    "\n",
    "Soit la matrice donnée ci-dessous, calculez la somme des éléments de chaque ligne et\n",
    "de chaque colonne en utilisant la méthode numpy.sum()\n",
    "\n",
    "MS = [[20, 12, 4, 45, 37, 29, 28], [11, 3, 44, 36, 35, 27, 19], [2, 43, 42, 34, 26, 18, 10],\n",
    "[49, 41, 33, 25, 17, 9, 1], [40, 32, 24, 16, 8, 7, 48], [31, 23, 15, 14, 6, 47, 39], [22, 21, 13,\n",
    "5, 46, 38, 30]]"
   ]
  },
  {
   "cell_type": "code",
   "execution_count": 70,
   "id": "pointed-column",
   "metadata": {},
   "outputs": [
    {
     "name": "stdout",
     "output_type": "stream",
     "text": [
      "[175 175 175 175 175 175 175]\n",
      "[175 175 175 175 175 175 175]\n"
     ]
    }
   ],
   "source": [
    "import numpy as np\n",
    "\n",
    "MS = np.array([\n",
    "    [20, 12, 4, 45, 37, 29, 28],\n",
    "    [11, 3, 44, 36, 35, 27, 19],\n",
    "    [2, 43, 42, 34, 26, 18, 10],\n",
    "    [49, 41, 33, 25, 17, 9, 1],\n",
    "    [40, 32, 24, 16, 8, 7, 48],\n",
    "    [31, 23, 15, 14, 6, 47, 39],\n",
    "    [22, 21, 13, 5, 46, 38, 30]\n",
    "])\n",
    "\n",
    "\n",
    "print(MS.sum(axis=0))\n",
    "print(MS.sum(axis=1))"
   ]
  },
  {
   "cell_type": "markdown",
   "id": "random-court",
   "metadata": {},
   "source": [
    "### 4\n",
    "\n",
    "Générez une matrice de dimensions 10x10 contenant des valeurs aléatoires entre -1.0\n",
    "et 1.0. Calculez la valeur maximale, minimale et moyenne. Calculez la position où se\n",
    "trouve la valeur maximale et minimale (argmax et argmin) et la position du minimum par\n",
    "ligne (axis=1)."
   ]
  },
  {
   "cell_type": "code",
   "execution_count": 35,
   "id": "standard-upper",
   "metadata": {},
   "outputs": [
    {
     "name": "stdout",
     "output_type": "stream",
     "text": [
      "Minimum: -0.9847552971721352 at position 76\n",
      "Maximum: 0.9929867065836104 at position 24\n",
      "Average: 0.007970028802058686\n",
      "Min per line: [-0.95586058 -0.63390562 -0.95883632 -0.90580681 -0.97794245 -0.91001776\n",
      " -0.83381417 -0.9847553  -0.7464368  -0.56909237]\n"
     ]
    }
   ],
   "source": [
    "import numpy as np\n",
    "\n",
    "matrix = np.random.uniform(-1.0, 1.0, (10, 10))\n",
    "\n",
    "min = matrix.min()\n",
    "posMin = matrix.argmin()\n",
    "\n",
    "max = matrix.max()\n",
    "posMax = matrix.argmax()\n",
    "\n",
    "avg = matrix.mean()\n",
    "\n",
    "minPerLine = matrix.min(axis=1)\n",
    "\n",
    "print(f\"Minimum: {min} at position {posMin}\")\n",
    "print(f\"Maximum: {max} at position {posMax}\")\n",
    "print(f\"Average: {avg}\")\n",
    "print(f\"Min per line: {minPerLine}\")\n",
    "# print(matrix)"
   ]
  },
  {
   "cell_type": "markdown",
   "id": "conscious-music",
   "metadata": {},
   "source": [
    "### 5\n",
    "\n",
    "Créez une matrice x de dimensions 10x10 contenant des valeurs aléatoires entre 0.0 et\n",
    "1.0 et calculez le carré de chaque élément. Comparez le temps de calcul (p.ex. utilisez\n",
    "la magic command %%timeit) d’une implémentation qui utilise une double boucle for et\n",
    "une implémentation qui fait le calcul demandé tout simplement ainsi : x = x ** 2"
   ]
  },
  {
   "cell_type": "code",
   "execution_count": 75,
   "id": "fifteen-marine",
   "metadata": {},
   "outputs": [
    {
     "name": "stdout",
     "output_type": "stream",
     "text": [
      "** 2\n",
      "529 ns ± 1.29 ns per loop (mean ± std. dev. of 7 runs, 1000000 loops each)\n",
      "2 loops\n",
      "55.9 µs ± 518 ns per loop (mean ± std. dev. of 7 runs, 10000 loops each)\n"
     ]
    }
   ],
   "source": [
    "import numpy as np\n",
    "\n",
    "matrix = np.random.uniform(0.0, 1.0, (10, 10))\n",
    "\n",
    "s1 = np.array(matrix)\n",
    "print(\"** 2\")\n",
    "s1 = %timeit s1 ** 2\n",
    "\n",
    "s2 = np.array(matrix)\n",
    "def square(m):\n",
    "    for i in range(len(m)):\n",
    "        for j in range(len(m[i])):\n",
    "            m[i][j] = m[i][j] ** 2\n",
    "    return m\n",
    "\n",
    "print(\"2 loops\")\n",
    "%timeit square(s2)\n"
   ]
  },
  {
   "cell_type": "markdown",
   "id": "growing-packet",
   "metadata": {},
   "source": [
    "### 6\n",
    "\n",
    "Créez un array de dimension 100 avec des valeurs aléatoires entre 0 et 1.0 et générez\n",
    "un nouvel array où les éléments plus petits que 0.5 sont élevées au carré. Comparez le\n",
    "temps de calcul a) d’une implémentation à l’aide d’une boucle for, b) d’une\n",
    "implémentation qui utilise la méthode np.where(), et c) d’une implémentation à travers\n",
    "des masques."
   ]
  },
  {
   "cell_type": "code",
   "execution_count": 112,
   "id": "deadly-palestine",
   "metadata": {},
   "outputs": [
    {
     "name": "stdout",
     "output_type": "stream",
     "text": [
      "[0.63329735 0.69091766 0.35400581 0.88574872 0.66649214 0.60638308\n",
      " 0.95676983 0.94265847 0.48295685 0.63688855 0.34653444 0.9700986\n",
      " 0.19195542 0.55037058 0.17804518 0.66872601 0.18161077 0.12100917\n",
      " 0.17143092 0.52338758 0.3116651  0.54203264 0.45755811 0.65214437\n",
      " 0.57554135 0.85214127 0.5339965  0.21377039 0.83665213 0.25303537\n",
      " 0.06463022 0.43919051 0.60167436 0.83137129 0.53855227 0.99613218\n",
      " 0.64135905 0.38123659 0.50138355 0.2728301  0.81236222 0.68532054\n",
      " 0.51291236 0.46876582 0.77958007 0.71020368 0.63787085 0.49819655\n",
      " 0.54417163 0.69481357 0.32703468 0.24716053 0.00342041 0.96083171\n",
      " 0.15092257 0.7422127  0.96162417 0.66629181 0.59716267 0.70942728\n",
      " 0.99881711 0.439283   0.88773372 0.91965181 0.70979048 0.61238021\n",
      " 0.97191598 0.41610027 0.08030296 0.82778321 0.4448332  0.6519601\n",
      " 0.76201459 0.8567396  0.92436313 0.80860359 0.73504642 0.75151197\n",
      " 0.49722377 0.86394563 0.27176689 0.76492279 0.03660287 0.46264212\n",
      " 0.4389698  0.18346023 0.12587761 0.25046423 0.69391341 0.01348305\n",
      " 0.90918867 0.87682429 0.9652783  0.12172412 0.40412664 0.7550962\n",
      " 0.43541767 0.28142246 0.18392458 0.88867503]\n",
      "a) ------------\n",
      "[0.6332973519111732, 0.6909176605810639, 0.1253201165601517, 0.8857487208737357, 0.6664921408182445, 0.6063830816089222, 0.9567698262259096, 0.9426584665261488, 0.23324732088824424, 0.636888550401307, 0.12008611723127004, 0.9700986024590261, 0.0368468822049066, 0.5503705842801566, 0.0317000847138124, 0.6687260119033624, 0.03298247078329469, 0.014643218306081398, 0.029388560727954084, 0.5233875801553348, 0.09713513721416873, 0.5420326444817616, 0.20935942834843202, 0.6521443731118043, 0.5755413455380666, 0.8521412683147797, 0.5339964968521345, 0.04569778040828516, 0.8366521330132007, 0.06402689841734907, 0.004177065512130789, 0.19288830230780932, 0.6016743578894264, 0.8313712938699844, 0.5385522741994235, 0.9961321757342936, 0.6413590533882275, 0.14534133871895397, 0.5013835517230887, 0.07443626164211227, 0.812362223847183, 0.685320536076611, 0.5129123605926534, 0.21974139603837625, 0.7795800720991968, 0.7102036799522417, 0.6378708496984926, 0.2481998058495406, 0.5441716270622223, 0.694813572149154, 0.1069516824577443, 0.061088325459242185, 1.1699187344657065e-05, 0.9608317055338256, 0.02277762222920635, 0.7422126969342572, 0.9616241697083513, 0.666291813551498, 0.5971626689546855, 0.7094272833521473, 0.9988171125639324, 0.19296955140671385, 0.8877337177695325, 0.9196518096704781, 0.7097904821141139, 0.6123802095002608, 0.9719159832311677, 0.17313943696854128, 0.006448565090234235, 0.8277832143795707, 0.19787657168417977, 0.6519600988824865, 0.7620145936205915, 0.8567396043005009, 0.9243631260744786, 0.8086035923770183, 0.735046416590454, 0.7515119663145612, 0.24723147450217547, 0.8639456325875218, 0.07385724239846155, 0.7649227861768568, 0.001339770251058414, 0.21403772735427354, 0.19269448959391694, 0.03365765604823183, 0.01584517333084171, 0.06273233210726266, 0.6939134103309711, 0.0001817925691653539, 0.9091886703902021, 0.8768242911966911, 0.9652782970807017, 0.014816760724326566, 0.16331833834124443, 0.7550962013853253, 0.1895885457452372, 0.07919860120799659, 0.03382824951083924, 0.8886750293638371]\n"
     ]
    }
   ],
   "source": [
    "import numpy as np\n",
    "\n",
    "array = np.random.uniform(0.0, 1.0, 100)\n",
    "print(array)\n",
    "\n",
    "# a) for loop\n",
    "#a = [i ** 2 for i in a if i < 0.5]\n",
    "def method_a():\n",
    "    a = []\n",
    "    for i in array:\n",
    "        a.append(i ** 2 if i < 0.5 else i)\n",
    "    return a\n",
    "\n",
    "a = method_a()\n",
    "\n",
    "print(\"a) ------------\")\n",
    "print(a)\n",
    "\n",
    "# b) np.where()\n",
    "\n",
    "# c) masks\n"
   ]
  },
  {
   "cell_type": "markdown",
   "id": "tutorial-taiwan",
   "metadata": {},
   "source": [
    "## Exercices Matplotlib"
   ]
  },
  {
   "cell_type": "markdown",
   "id": "adjacent-extension",
   "metadata": {},
   "source": [
    "### 7\n",
    "\n",
    "Générez un graphique de la fonction tangente hyperbolique définie par :\n",
    "\n",
    "tanh(x) = (1 - exp(-2 * x)) / (1 + exp(-2 * x)), pour -5 < x < 5\n",
    "\n",
    "Ajouter un titre, des labels et une grille"
   ]
  }
 ],
 "metadata": {
  "kernelspec": {
   "display_name": "isd",
   "language": "python",
   "name": "isd"
  },
  "language_info": {
   "codemirror_mode": {
    "name": "ipython",
    "version": 3
   },
   "file_extension": ".py",
   "mimetype": "text/x-python",
   "name": "python",
   "nbconvert_exporter": "python",
   "pygments_lexer": "ipython3",
   "version": "3.9.1"
  }
 },
 "nbformat": 4,
 "nbformat_minor": 5
}
