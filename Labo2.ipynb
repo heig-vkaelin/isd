{
 "cells": [
  {
   "cell_type": "markdown",
   "id": "qualified-desktop",
   "metadata": {},
   "source": [
    "## Exercices Numpy"
   ]
  },
  {
   "cell_type": "markdown",
   "id": "available-philadelphia",
   "metadata": {},
   "source": [
    "### 1"
   ]
  },
  {
   "cell_type": "code",
   "execution_count": 12,
   "id": "modular-oxford",
   "metadata": {},
   "outputs": [
    {
     "name": "stdout",
     "output_type": "stream",
     "text": [
      "[ 0 -1  2 -1  4 -1  6 -1  8 -1]\n"
     ]
    }
   ],
   "source": [
    "import numpy as np\n",
    "\n",
    "a = np.arange(10)\n",
    "a[a % 2 == 1] = -1  \n",
    "\n",
    "print(a)"
   ]
  },
  {
   "cell_type": "markdown",
   "id": "crude-symposium",
   "metadata": {},
   "source": [
    "### 2"
   ]
  },
  {
   "cell_type": "code",
   "execution_count": 51,
   "id": "impaired-disposition",
   "metadata": {},
   "outputs": [
    {
     "name": "stdout",
     "output_type": "stream",
     "text": [
      "[ 0  1  2  3  4  5  6  7  8  9 10 11 12 13 14 15 16 17 18 19 20 21 22 23\n",
      " 24 25 26 27 28 29 30 31 32 33 34 35 36 37 38 39 40 41 42 43 44 45 46 47\n",
      " 48 49 50 51 52 53 54 55 56 57 58 59 60 61 62 63 64 65 66 67 68 69 70 71\n",
      " 72 73 74 75 76 77 78 79 80 81 82 83 84 85 86 87 88 89 90 91 92 93 94 95\n",
      " 96 97 98 99]\n",
      "[2, 3, 5, 7, 11, 13, 17, 19, 23, 29, 31, 37, 41, 43, 47, 53, 59, 61, 67, 71, 73, 79, 83, 89, 97]\n"
     ]
    }
   ],
   "source": [
    "import numpy as np\n",
    "\n",
    "def isPrime(n):\n",
    "    if(n < 2): return False\n",
    "    for x in range(2, (int)(np.sqrt(n)) + 1):\n",
    "        if n % x == 0:\n",
    "            return False\n",
    "    return True\n",
    "\n",
    "a = np.arange(100)\n",
    "prime = [i for i in a if isPrime(i)]\n",
    "\n",
    "print(a)\n",
    "print(prime)"
   ]
  },
  {
   "cell_type": "markdown",
   "id": "connected-facility",
   "metadata": {},
   "source": [
    "### 3"
   ]
  },
  {
   "cell_type": "code",
   "execution_count": 70,
   "id": "flying-conditioning",
   "metadata": {},
   "outputs": [
    {
     "name": "stdout",
     "output_type": "stream",
     "text": [
      "[175 175 175 175 175 175 175]\n",
      "[175 175 175 175 175 175 175]\n"
     ]
    }
   ],
   "source": [
    "import numpy as np\n",
    "\n",
    "MS = np.array([\n",
    "    [20, 12, 4, 45, 37, 29, 28],\n",
    "    [11, 3, 44, 36, 35, 27, 19],\n",
    "    [2, 43, 42, 34, 26, 18, 10],\n",
    "    [49, 41, 33, 25, 17, 9, 1],\n",
    "    [40, 32, 24, 16, 8, 7, 48],\n",
    "    [31, 23, 15, 14, 6, 47, 39],\n",
    "    [22, 21, 13, 5, 46, 38, 30]\n",
    "])\n",
    "\n",
    "\n",
    "print(MS.sum(axis=0))\n",
    "print(MS.sum(axis=1))"
   ]
  },
  {
   "cell_type": "markdown",
   "id": "boring-wellington",
   "metadata": {},
   "source": [
    "### 4"
   ]
  },
  {
   "cell_type": "code",
   "execution_count": 35,
   "id": "lightweight-murray",
   "metadata": {},
   "outputs": [
    {
     "name": "stdout",
     "output_type": "stream",
     "text": [
      "Minimum: -0.9847552971721352 at position 76\n",
      "Maximum: 0.9929867065836104 at position 24\n",
      "Average: 0.007970028802058686\n",
      "Min per line: [-0.95586058 -0.63390562 -0.95883632 -0.90580681 -0.97794245 -0.91001776\n",
      " -0.83381417 -0.9847553  -0.7464368  -0.56909237]\n"
     ]
    }
   ],
   "source": [
    "import numpy as np\n",
    "\n",
    "matrix = np.random.uniform(-1.0, 1.0, (10, 10))\n",
    "\n",
    "min = matrix.min()\n",
    "posMin = matrix.argmin()\n",
    "\n",
    "max = matrix.max()\n",
    "posMax = matrix.argmax()\n",
    "\n",
    "avg = matrix.mean()\n",
    "\n",
    "minPerLine = matrix.min(axis=1)\n",
    "\n",
    "print(f\"Minimum: {min} at position {posMin}\")\n",
    "print(f\"Maximum: {max} at position {posMax}\")\n",
    "print(f\"Average: {avg}\")\n",
    "print(f\"Min per line: {minPerLine}\")\n",
    "# print(matrix)"
   ]
  },
  {
   "cell_type": "markdown",
   "id": "tropical-power",
   "metadata": {},
   "source": [
    "### 5"
   ]
  },
  {
   "cell_type": "code",
   "execution_count": 75,
   "id": "convertible-stupid",
   "metadata": {},
   "outputs": [
    {
     "name": "stdout",
     "output_type": "stream",
     "text": [
      "** 2\n",
      "529 ns ± 1.29 ns per loop (mean ± std. dev. of 7 runs, 1000000 loops each)\n",
      "2 loops\n",
      "55.9 µs ± 518 ns per loop (mean ± std. dev. of 7 runs, 10000 loops each)\n"
     ]
    }
   ],
   "source": [
    "import numpy as np\n",
    "\n",
    "matrix = np.random.uniform(0.0, 1.0, (10, 10))\n",
    "\n",
    "s1 = np.array(matrix)\n",
    "print(\"** 2\")\n",
    "s1 = %timeit s1 ** 2\n",
    "\n",
    "s2 = np.array(matrix)\n",
    "def square(m):\n",
    "    for i in range(len(m)):\n",
    "        for j in range(len(m[i])):\n",
    "            m[i][j] = m[i][j] ** 2\n",
    "    return m\n",
    "\n",
    "print(\"2 loops\")\n",
    "%timeit square(s2)\n"
   ]
  },
  {
   "cell_type": "markdown",
   "id": "surface-choice",
   "metadata": {},
   "source": [
    "### 6"
   ]
  }
 ],
 "metadata": {
  "kernelspec": {
   "display_name": "isd",
   "language": "python",
   "name": "isd"
  },
  "language_info": {
   "codemirror_mode": {
    "name": "ipython",
    "version": 3
   },
   "file_extension": ".py",
   "mimetype": "text/x-python",
   "name": "python",
   "nbconvert_exporter": "python",
   "pygments_lexer": "ipython3",
   "version": "3.9.1"
  }
 },
 "nbformat": 4,
 "nbformat_minor": 5
}
