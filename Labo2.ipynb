{
 "cells": [
  {
   "cell_type": "markdown",
   "id": "olympic-carrier",
   "metadata": {},
   "source": [
    "## Exercices Numpy"
   ]
  },
  {
   "cell_type": "markdown",
   "id": "respected-brief",
   "metadata": {},
   "source": [
    "### 1\n",
    "\n",
    "Créez un array avec les entiers 0 à 10 et générez en sortie un array où les valeurs\n",
    "impaires de l'array ont été remplacées par des -1.\n",
    "\n",
    "Sortie désirée : array([ 0, -1, 2, -1, 4, -1, 6, -1, 8, -1])"
   ]
  },
  {
   "cell_type": "code",
   "execution_count": 12,
   "id": "modular-oxford",
   "metadata": {},
   "outputs": [
    {
     "name": "stdout",
     "output_type": "stream",
     "text": [
      "[ 0 -1  2 -1  4 -1  6 -1  8 -1]\n"
     ]
    }
   ],
   "source": [
    "import numpy as np\n",
    "\n",
    "a = np.arange(10)\n",
    "a[a % 2 == 1] = -1  \n",
    "\n",
    "print(a)"
   ]
  },
  {
   "cell_type": "markdown",
   "id": "ambient-scott",
   "metadata": {},
   "source": [
    "### 2\n",
    "\n",
    "Créez un array avec les entiers de 0 à 100 et générez en sortie un array contenant\n",
    "seulement les nombres premiers.\n",
    "\n",
    "Aide: commencez par créer une fonction qui calcule si un nombre entier est un nombre\n",
    "premier (c.a.d., qu’il n'est pas divisible par 2,3,4,5.... ni par sqrt(n), où n est le nombre\n",
    "testé)."
   ]
  },
  {
   "cell_type": "code",
   "execution_count": 77,
   "id": "atlantic-casino",
   "metadata": {},
   "outputs": [
    {
     "name": "stdout",
     "output_type": "stream",
     "text": [
      "[2, 3, 5, 7, 11, 13, 17, 19, 23, 29, 31, 37, 41, 43, 47, 53, 59, 61, 67, 71, 73, 79, 83, 89, 97]\n"
     ]
    }
   ],
   "source": [
    "import numpy as np\n",
    "\n",
    "def isPrime(n):\n",
    "    if(n < 2): return False\n",
    "    for x in range(2, (int)(np.sqrt(n)) + 1):\n",
    "        if n % x == 0:\n",
    "            return False\n",
    "    return True\n",
    "\n",
    "a = np.arange(100)\n",
    "prime = [i for i in a if isPrime(i)]\n",
    "\n",
    "print(prime)"
   ]
  },
  {
   "cell_type": "markdown",
   "id": "outstanding-fellow",
   "metadata": {},
   "source": [
    "### 3\n",
    "\n",
    "Soit la matrice donnée ci-dessous, calculez la somme des éléments de chaque ligne et\n",
    "de chaque colonne en utilisant la méthode numpy.sum()\n",
    "\n",
    "MS = [[20, 12, 4, 45, 37, 29, 28], [11, 3, 44, 36, 35, 27, 19], [2, 43, 42, 34, 26, 18, 10],\n",
    "[49, 41, 33, 25, 17, 9, 1], [40, 32, 24, 16, 8, 7, 48], [31, 23, 15, 14, 6, 47, 39], [22, 21, 13,\n",
    "5, 46, 38, 30]]"
   ]
  },
  {
   "cell_type": "code",
   "execution_count": 70,
   "id": "painted-verse",
   "metadata": {},
   "outputs": [
    {
     "name": "stdout",
     "output_type": "stream",
     "text": [
      "[175 175 175 175 175 175 175]\n",
      "[175 175 175 175 175 175 175]\n"
     ]
    }
   ],
   "source": [
    "import numpy as np\n",
    "\n",
    "MS = np.array([\n",
    "    [20, 12, 4, 45, 37, 29, 28],\n",
    "    [11, 3, 44, 36, 35, 27, 19],\n",
    "    [2, 43, 42, 34, 26, 18, 10],\n",
    "    [49, 41, 33, 25, 17, 9, 1],\n",
    "    [40, 32, 24, 16, 8, 7, 48],\n",
    "    [31, 23, 15, 14, 6, 47, 39],\n",
    "    [22, 21, 13, 5, 46, 38, 30]\n",
    "])\n",
    "\n",
    "\n",
    "print(MS.sum(axis=0))\n",
    "print(MS.sum(axis=1))"
   ]
  },
  {
   "cell_type": "markdown",
   "id": "endangered-nevada",
   "metadata": {},
   "source": [
    "### 4\n",
    "\n",
    "Générez une matrice de dimensions 10x10 contenant des valeurs aléatoires entre -1.0\n",
    "et 1.0. Calculez la valeur maximale, minimale et moyenne. Calculez la position où se\n",
    "trouve la valeur maximale et minimale (argmax et argmin) et la position du minimum par\n",
    "ligne (axis=1)."
   ]
  },
  {
   "cell_type": "code",
   "execution_count": 35,
   "id": "disciplinary-adult",
   "metadata": {},
   "outputs": [
    {
     "name": "stdout",
     "output_type": "stream",
     "text": [
      "Minimum: -0.9847552971721352 at position 76\n",
      "Maximum: 0.9929867065836104 at position 24\n",
      "Average: 0.007970028802058686\n",
      "Min per line: [-0.95586058 -0.63390562 -0.95883632 -0.90580681 -0.97794245 -0.91001776\n",
      " -0.83381417 -0.9847553  -0.7464368  -0.56909237]\n"
     ]
    }
   ],
   "source": [
    "import numpy as np\n",
    "\n",
    "matrix = np.random.uniform(-1.0, 1.0, (10, 10))\n",
    "\n",
    "min = matrix.min()\n",
    "posMin = matrix.argmin()\n",
    "\n",
    "max = matrix.max()\n",
    "posMax = matrix.argmax()\n",
    "\n",
    "avg = matrix.mean()\n",
    "\n",
    "minPerLine = matrix.min(axis=1)\n",
    "\n",
    "print(f\"Minimum: {min} at position {posMin}\")\n",
    "print(f\"Maximum: {max} at position {posMax}\")\n",
    "print(f\"Average: {avg}\")\n",
    "print(f\"Min per line: {minPerLine}\")\n",
    "# print(matrix)"
   ]
  },
  {
   "cell_type": "markdown",
   "id": "desirable-premium",
   "metadata": {},
   "source": [
    "### 5\n",
    "\n",
    "Créez une matrice x de dimensions 10x10 contenant des valeurs aléatoires entre 0.0 et\n",
    "1.0 et calculez le carré de chaque élément. Comparez le temps de calcul (p.ex. utilisez\n",
    "la magic command %%timeit) d’une implémentation qui utilise une double boucle for et\n",
    "une implémentation qui fait le calcul demandé tout simplement ainsi : x = x ** 2"
   ]
  },
  {
   "cell_type": "code",
   "execution_count": 75,
   "id": "dangerous-situation",
   "metadata": {},
   "outputs": [
    {
     "name": "stdout",
     "output_type": "stream",
     "text": [
      "** 2\n",
      "529 ns ± 1.29 ns per loop (mean ± std. dev. of 7 runs, 1000000 loops each)\n",
      "2 loops\n",
      "55.9 µs ± 518 ns per loop (mean ± std. dev. of 7 runs, 10000 loops each)\n"
     ]
    }
   ],
   "source": [
    "import numpy as np\n",
    "\n",
    "matrix = np.random.uniform(0.0, 1.0, (10, 10))\n",
    "\n",
    "s1 = np.array(matrix)\n",
    "print(\"** 2\")\n",
    "s1 = %timeit s1 ** 2\n",
    "\n",
    "s2 = np.array(matrix)\n",
    "def square(m):\n",
    "    for i in range(len(m)):\n",
    "        for j in range(len(m[i])):\n",
    "            m[i][j] = m[i][j] ** 2\n",
    "    return m\n",
    "\n",
    "print(\"2 loops\")\n",
    "%timeit square(s2)\n"
   ]
  },
  {
   "cell_type": "markdown",
   "id": "motivated-magazine",
   "metadata": {},
   "source": [
    "### 6\n",
    "\n",
    "Créez un array de dimension 100 avec des valeurs aléatoires entre 0 et 1.0 et générez\n",
    "un nouvel array où les éléments plus petits que 0.5 sont élevées au carré. Comparez le\n",
    "temps de calcul a) d’une implémentation à l’aide d’une boucle for, b) d’une\n",
    "implémentation qui utilise la méthode np.where(), et c) d’une implémentation à travers\n",
    "des masques."
   ]
  },
  {
   "cell_type": "code",
   "execution_count": 84,
   "id": "voluntary-reservation",
   "metadata": {},
   "outputs": [
    {
     "data": {
      "text/plain": [
       "array([0.07649072, 0.78849698, 0.29293275, 0.99322752, 0.65762324,\n",
       "       0.11815821, 0.1234452 , 0.88826396, 0.75559392, 0.03570249,\n",
       "       0.29413459, 0.14347335, 0.48271339, 0.5822072 , 0.07150313,\n",
       "       0.02646819, 0.28155397, 0.41994181, 0.87719812, 0.35662121,\n",
       "       0.04833029, 0.77528578, 0.09169046, 0.71369942, 0.62167006,\n",
       "       0.41351228, 0.58454727, 0.73529002, 0.8488753 , 0.37999527,\n",
       "       0.7422683 , 0.1731183 , 0.3982632 , 0.16035426, 0.19482866,\n",
       "       0.68662674, 0.6731996 , 0.93059808, 0.95235756, 0.34996153,\n",
       "       0.39811553, 0.60714489, 0.99615077, 0.25673728, 0.58526491,\n",
       "       0.72231451, 0.19178779, 0.17291927, 0.71241857, 0.01160306,\n",
       "       0.35569874, 0.31901374, 0.68811336, 0.98046931, 0.07851648,\n",
       "       0.1169586 , 0.43957693, 0.16459645, 0.22127291, 0.52396189,\n",
       "       0.27462641, 0.56883883, 0.00593826, 0.49870403, 0.8255304 ,\n",
       "       0.80401366, 0.49936597, 0.86634282, 0.25227132, 0.57370974,\n",
       "       0.12245299, 0.6450141 , 0.57425167, 0.77836466, 0.28885071,\n",
       "       0.21235014, 0.45027986, 0.28808953, 0.67047069, 0.87660163,\n",
       "       0.72949796, 0.16107928, 0.18317131, 0.08258585, 0.72198682,\n",
       "       0.11337264, 0.37381631, 0.80100166, 0.84644932, 0.51700913,\n",
       "       0.52757282, 0.9048443 , 0.91915677, 0.94898098, 0.68272341,\n",
       "       0.12258094, 0.90055007, 0.15013337, 0.30182839, 0.33254733])"
      ]
     },
     "execution_count": 84,
     "metadata": {},
     "output_type": "execute_result"
    }
   ],
   "source": [
    "import numpy as np\n",
    "\n",
    "a = np.random.uniform(0.0, 1.0, 100)\n",
    "\n",
    "a\n",
    "\n",
    "# TODO here"
   ]
  },
  {
   "cell_type": "markdown",
   "id": "imported-midwest",
   "metadata": {},
   "source": [
    "## Exercices Matplotlib"
   ]
  },
  {
   "cell_type": "markdown",
   "id": "contemporary-arbitration",
   "metadata": {},
   "source": [
    "### 7\n",
    "\n",
    "Générez un graphique de la fonction tangente hyperbolique définie par :\n",
    "\n",
    "tanh(x) = (1 - exp(-2 * x)) / (1 + exp(-2 * x)), pour -5 < x < 5\n",
    "\n",
    "Ajouter un titre, des labels et une grille"
   ]
  }
 ],
 "metadata": {
  "kernelspec": {
   "display_name": "isd",
   "language": "python",
   "name": "isd"
  },
  "language_info": {
   "codemirror_mode": {
    "name": "ipython",
    "version": 3
   },
   "file_extension": ".py",
   "mimetype": "text/x-python",
   "name": "python",
   "nbconvert_exporter": "python",
   "pygments_lexer": "ipython3",
   "version": "3.9.1"
  }
 },
 "nbformat": 4,
 "nbformat_minor": 5
}
